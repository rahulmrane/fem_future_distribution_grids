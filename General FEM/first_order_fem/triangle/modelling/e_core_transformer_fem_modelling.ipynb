{
 "cells": [
  {
   "cell_type": "markdown",
   "id": "af70a261",
   "metadata": {},
   "source": [
    "# FEM Modelling for E-shaped Ferrite Core Transformer"
   ]
  },
  {
   "cell_type": "markdown",
   "id": "5063ccfe",
   "metadata": {},
   "source": [
    "## Import Packages"
   ]
  },
  {
   "cell_type": "code",
   "execution_count": 1,
   "id": "012e9206",
   "metadata": {},
   "outputs": [],
   "source": [
    "using gmsh\n",
    "using LinearAlgebra\n",
    "using LaTeXStrings\n",
    "include(\"../../../../lib/Makie_Plots.jl\");\n",
    "using .Makie_Plots\n",
    "include(\"../../../../lib/FEM_Tri_1e.jl\");\n",
    "using .FEM_Tri_1e\n",
    "include(\"../../../../lib/Mesh_Data_e_core.jl\");\n",
    "using .Mesh_Data_e_core\n",
    "include(\"../../../../lib/Save_VTK.jl\");\n",
    "using .Save_VTK"
   ]
  },
  {
   "cell_type": "markdown",
   "id": "a9284d46",
   "metadata": {},
   "source": [
    "## Julia code"
   ]
  },
  {
   "cell_type": "code",
   "execution_count": 2,
   "id": "1b686a4b-cff5-406c-879e-93e36e1241e2",
   "metadata": {},
   "outputs": [
    {
     "name": "stdout",
     "output_type": "stream",
     "text": [
      "Info    : Reading '../mesh/e_shaped_ferrite_core_transformer.msh'...\n",
      "Info    : 75 entities\n",
      "Info    : 6027 nodes\n",
      "Info    : 11928 elements\n",
      "Info    : Done reading '../mesh/e_shaped_ferrite_core_transformer.msh'\n"
     ]
    }
   ],
   "source": [
    "gmsh.initialize()\n",
    "\n",
    "## Constants\n",
    "mur = 2000;  #relative permeability of the core\n",
    "mu0 = 4*pi*10^(-7);\n",
    "curr_dens_value = 3.1085;\n",
    "k = 0.2227\n",
    "\n",
    "## Read mesh from file\n",
    "gmsh.open(\"../mesh/e_shaped_ferrite_core_transformer.msh\")\n",
    "\n",
    "mesh_data = get_mesh_data_tri_1e(gmsh)\n",
    "\n",
    "omega = 2*pi*50;  # Frequency\n",
    "\n",
    "# Source current density J\n",
    "sourcefunction(group_id) = curr_dens_value*(group_id==4)-curr_dens_value*(group_id==5)\n",
    "sourceperelement = map(sourcefunction, mesh_data.e_group)\n",
    "\n",
    "# Relative permeability model\n",
    "reluctivityfunction(group_id) = (1/mu0)*((group_id==1)+(group_id==4)+(group_id==5))+(1/(mu0*mur))*((group_id==2))\n",
    "reluctivityperelement = map(reluctivityfunction, mesh_data.e_group)\n",
    "\n",
    "# Conductivity\n",
    "conductivityfunction(group_id) = 0;\n",
    "conductivityperelement = map(conductivityfunction, mesh_data.e_group);\n",
    "\n",
    "# Handle the boundary conditions\n",
    "node_ids1, node_coord, _ = gmsh.model.mesh.getNodes(0,1)\n",
    "node_ids2, node_coord, _ = gmsh.model.mesh.getNodes(0,2)\n",
    "node_ids3, node_coord, _ = gmsh.model.mesh.getNodes(0,3)\n",
    "node_ids4, node_coord, _ = gmsh.model.mesh.getNodes(0,4)\n",
    "node_ids5, node_coord, _ = gmsh.model.mesh.getNodes(1,101)\n",
    "node_ids6, node_coord, _ = gmsh.model.mesh.getNodes(1,102)\n",
    "node_ids7, node_coord, _ = gmsh.model.mesh.getNodes(1,103)\n",
    "node_ids8, node_coord, _ = gmsh.model.mesh.getNodes(1,104)\n",
    "bnd_node_ids = union(node_ids1,node_ids2,node_ids3,node_ids4,node_ids5,node_ids6,node_ids7,node_ids8)\n",
    "\n",
    "# Calculate the vector potential\n",
    "u = fem(mesh_data, sourceperelement, reluctivityperelement, conductivityperelement, omega, bnd_node_ids);\n",
    "\n",
    "# Post-process for magnetic field and current density\n",
    "Bx, By, B, Hx, Hy, H, mag_energy = post_process(mesh_data, u, reluctivityperelement);\n",
    "\n",
    "# Contour plot of the magnetic flux density\n",
    "plot_surface_tri_1e(norm.(B), \"e_core_transformer_B_plot\", gmsh)\n",
    "# Contour plot of the magnetic field strength\n",
    "plot_surface_tri_1e(norm.(H), \"e_core_transformer_H_plot\", gmsh)\n",
    "# Contour plot of the magnetic energy\n",
    "plot_surface_tri_1e(norm.(mag_energy), \"e_core_transformer_mag_energy_plot\", gmsh)\n",
    "\n",
    "# Save as VTK file for Paraview visualization\n",
    "save_vtk(mesh_data, norm.(u), norm.(B), norm.(H), norm.(mag_energy), reluctivityperelement, \"e_core_transformer\")\n",
    "\n",
    "gmsh.finalize()"
   ]
  },
  {
   "cell_type": "markdown",
   "id": "62a2016f-46a8-44e3-b008-a6f007643c31",
   "metadata": {},
   "source": [
    "### STEDIN Transformer : Magnetic field density\n",
    "<img src=\"../img/e_core_transformer_B_plot.png\">\n",
    "\n",
    "### STEDIN Transformer : Magnetic field strength\n",
    "<img src=\"../img/e_core_transformer_H_plot.png\">\n",
    "\n",
    "### STEDIN Transformer : Magnetic energy\n",
    "<img src=\"../img/e_core_transformer_mag_energy_plot.png\">"
   ]
  }
 ],
 "metadata": {
  "kernelspec": {
   "display_name": "Julia 1.8.5",
   "language": "julia",
   "name": "julia-1.8"
  },
  "language_info": {
   "file_extension": ".jl",
   "mimetype": "application/julia",
   "name": "julia",
   "version": "1.8.5"
  }
 },
 "nbformat": 4,
 "nbformat_minor": 5
}
