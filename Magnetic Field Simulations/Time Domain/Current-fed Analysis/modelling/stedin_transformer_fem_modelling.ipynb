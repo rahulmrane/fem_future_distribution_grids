{
 "cells": [
  {
   "cell_type": "markdown",
   "id": "af70a261",
   "metadata": {},
   "source": [
    "# FEM Modelling for Three-Phase STEDIN Transformer"
   ]
  },
  {
   "cell_type": "markdown",
   "id": "4db1895b-7cc7-458d-a7d4-6c8c59d34f30",
   "metadata": {},
   "source": [
    "### Transient Analysis\n",
    "\n",
    "In time-domain,\n",
    "\\begin{equation}\n",
    "    -\\nabla\\cdot\\Big[\\frac{1}{\\mu}\\nabla u_z \\Big] + \\sigma \\frac{\\partial u_z}{\\partial t} = J_0\n",
    "\\end{equation}\n",
    "\n",
    "Writing in matrix form, \n",
    "\\begin{equation}\n",
    "    Au + B \\frac{\\partial u}{\\partial t} = f\n",
    "\\end{equation}\n",
    "\n",
    "Using Backward Euler method for time-stepping, \n",
    "\\begin{equation}\n",
    "    Au^{t+\\Delta t} + B \\frac{u^{t+\\Delta t} - u^{t}}{\\Delta t} = f^{t+\\Delta t}\n",
    "\\end{equation}\n",
    "\n",
    "On simplifying, we get,\n",
    "\\begin{equation}\n",
    "    [B + \\Delta t A]u^{t+\\Delta t} = Bu^t + \\Delta t f^t\n",
    "\\end{equation}"
   ]
  },
  {
   "cell_type": "markdown",
   "id": "5063ccfe",
   "metadata": {},
   "source": [
    "## Import Packages"
   ]
  },
  {
   "cell_type": "code",
   "execution_count": null,
   "id": "012e9206",
   "metadata": {},
   "outputs": [],
   "source": [
    "print(\" ▸ Loading Packages .... \\r\")\n",
    "start = time_ns()\n",
    "using gmsh\n",
    "using LinearAlgebra\n",
    "using LaTeXStrings\n",
    "using Plots\n",
    "using CSV\n",
    "using DataFrames\n",
    "include(\"../../../../lib/Makie_Plots.jl\");\n",
    "using .Makie_Plots\n",
    "include(\"../../../../lib/FEM_Transient_Tri_1e.jl\");\n",
    "using .FEM_Transient_Tri_1e\n",
    "include(\"../../../../lib/Post_Process_Time.jl\");\n",
    "using .Post_Process_Time\n",
    "include(\"../../../../lib/Mesh_Data_stedin.jl\");\n",
    "using .Mesh_Data_stedin\n",
    "include(\"../../../../lib/Save_VTK.jl\");\n",
    "using .Save_VTK\n",
    "elapsed = round((time_ns() - start)/10^9, digits=2)\n",
    "println(\" ✓ Packages loaded (\"*string(elapsed)*\" seconds)                               \")"
   ]
  },
  {
   "cell_type": "markdown",
   "id": "a9284d46",
   "metadata": {},
   "source": [
    "## Julia code"
   ]
  },
  {
   "cell_type": "code",
   "execution_count": null,
   "id": "a2d869f5",
   "metadata": {},
   "outputs": [],
   "source": [
    "gmsh.initialize()\n",
    "\n",
    "## Read mesh from file\n",
    "print(\" ▸ Reading mesh file .... \\r\")\n",
    "start = time_ns()\n",
    "gmsh.open(\"../../../../Geometry/mesh/stedin_transformer.msh\")\n",
    "elapsed = round((time_ns() - start)/10^9, digits=2)\n",
    "println(\" ✓ Mesh file loaded (\"*string(elapsed)*\" seconds)                               \")\n",
    "\n",
    "print(\" ▸ Generating required mesh data .... \\r\")\n",
    "start = time_ns()\n",
    "mesh_data = get_mesh_data_tri_1e(gmsh)\n",
    "elapsed = round((time_ns() - start)/10^9, digits=2)\n",
    "println(\" ✓ Mesh data generated (\"*string(elapsed)*\" seconds)                               \")\n",
    "\n",
    "print(\" ▸ Setting initial parameters .... \\r\")\n",
    "start = time_ns()\n",
    "Ip = 0;       # Primary peak phase current\n",
    "Is = 777.62;  # Secondary peak phase current\n",
    "Np = 266;\n",
    "Ns = 6;\n",
    "\n",
    "omega = 2*pi*50;  # Frequency\n",
    "\n",
    "# HV winding dimensions (all phases left/right are identical)\n",
    "wwhv = 3e-2;\n",
    "hwhv = 74e-2;\n",
    "mwhv = 14.75e-2;\n",
    "Awhv = wwhv * hwhv;\n",
    "\n",
    "# LV winding dimensions (all phases left/right are identical)\n",
    "wwlv = 2e-2;\n",
    "hwlv = 74e-2;\n",
    "mwlv = 11.25e-2;\n",
    "Awlv = wwlv * hwlv;\n",
    "\n",
    "# Calculate current density in the windings\n",
    "Jp = Np * Ip / Awhv;\n",
    "Js = Ns * Is / Awlv;\n",
    "\n",
    "# Specify time start, end and step\n",
    "init_time = 0\n",
    "n_cycles = 5\n",
    "final_time = n_cycles*(2*pi/omega)\n",
    "dt = (final_time-init_time) / (60*n_cycles)\n",
    "time_steps = Vector(init_time:dt:final_time)\n",
    "\n",
    "# Source current density J\n",
    "# One term for each of the windings, with a positive and negative part\n",
    "# Note the phase shift between the phases\n",
    "sourcefunction(group_id) = Jp * exp(-1im * 2pi/3) * (1 * (group_id==3) - 1 * (group_id==4)) + \n",
    "                           Jp * (1 * (group_id==5) - 1 * (group_id==6)) + \n",
    "                           Jp * exp(1im * 2pi/3) * (1 * (group_id==7) - 1 * (group_id==8)) + \n",
    "                           Js * exp(-1im * 2pi/3) * (1 * (group_id==9) - 1 * (group_id==10)) +\n",
    "                           Js * (1 * (group_id==11) - 1 * (group_id==12)) + \n",
    "                           Js * exp(1im * 2pi/3) * (1 * (group_id==13) - 1 * (group_id==14));\n",
    "sourceperelement = map(sourcefunction, mesh_data.e_group);\n",
    "\n",
    "# Relative permeability model\n",
    "mu0 = 4e-7 * pi;\n",
    "mur = 2500;       # Relative permeability of the core\n",
    "reluctivityfunction(group_id) = (1 / mu0) + (1/(mu0*mur) - 1/mu0) * (group_id == 2)\n",
    "reluctivityperelement = map(reluctivityfunction, mesh_data.e_group);\n",
    "\n",
    "# Conductivity\n",
    "conductivityfunction(group_id) = 0;\n",
    "conductivityperelement = map(conductivityfunction, mesh_data.e_group);\n",
    "\n",
    "# Handle the boundary conditions\n",
    "bnd_node_ids, _ = gmsh.model.mesh.getNodesForPhysicalGroup(1, 1);\n",
    "\n",
    "elapsed = round((time_ns() - start)/10^9, digits=2)\n",
    "println(\" ✓ Initial parameters set (\"*string(elapsed)*\" seconds)                               \")\n",
    "\n",
    "# Calculate the vector potential\n",
    "u = fem(mesh_data, sourceperelement, reluctivityperelement, conductivityperelement, omega, bnd_node_ids, time_steps);\n",
    "\n",
    "# Post-process for magnetic field and current density\n",
    "Bx, By, B, Hx, Hy, H, mag_energy = post_process(mesh_data, u, reluctivityperelement, time_steps);\n",
    "\n",
    "gmsh.finalize()"
   ]
  },
  {
   "cell_type": "markdown",
   "id": "b101ca3f",
   "metadata": {},
   "source": [
    "## Plots"
   ]
  },
  {
   "cell_type": "code",
   "execution_count": null,
   "id": "bfddc4da-e35c-4b6b-84a5-fd764c8e8edd",
   "metadata": {},
   "outputs": [],
   "source": [
    "selected_node = 4276\n",
    "selected_element = 7051\n",
    "u_wave = [u_curr[selected_node] for u_curr in u];\n",
    "Bx_wave = [Bx_curr[selected_element] for Bx_curr in Bx];\n",
    "By_wave = [By_curr[selected_element] for By_curr in By];\n",
    "B_wave = [B_curr[selected_element] for B_curr in B];\n",
    "Hx_wave = [Hx_curr[selected_element] for Hx_curr in Hx];\n",
    "Hy_wave = [Hy_curr[selected_element] for Hy_curr in Hy];\n",
    "H_wave = [H_curr[selected_element] for H_curr in H];\n",
    "mag_energy_wave = [mag_energy_curr[selected_element] for mag_energy_curr in mag_energy];"
   ]
  },
  {
   "cell_type": "code",
   "execution_count": null,
   "id": "af946297-d534-462a-83dc-f028dabe723f",
   "metadata": {},
   "outputs": [],
   "source": [
    "plot(time_steps, u_wave, label = \"u\")\n",
    "xlabel!(\"time (sec)\")\n",
    "ylabel!(\"u\")"
   ]
  },
  {
   "cell_type": "code",
   "execution_count": null,
   "id": "d2be2f4e-e970-4f42-8803-9e74f0d6dfa5",
   "metadata": {},
   "outputs": [],
   "source": [
    "plot(time_steps, Bx_wave, label = \"Bx\")\n",
    "xlabel!(\"time (sec)\")\n",
    "ylabel!(\"Bx\")"
   ]
  },
  {
   "cell_type": "code",
   "execution_count": null,
   "id": "d2f1f90b-8691-4978-9933-0b2a0454980a",
   "metadata": {},
   "outputs": [],
   "source": [
    "plot(time_steps, By_wave, label = \"By\")\n",
    "xlabel!(\"time (sec)\")\n",
    "ylabel!(\"By\")"
   ]
  },
  {
   "cell_type": "code",
   "execution_count": null,
   "id": "22152bcb-52cf-4bf8-ad7c-9e2137a43e3a",
   "metadata": {},
   "outputs": [],
   "source": [
    "plot(time_steps, B_wave, label = \"B\")\n",
    "xlabel!(\"time (sec)\")\n",
    "ylabel!(\"B\")"
   ]
  },
  {
   "cell_type": "code",
   "execution_count": null,
   "id": "e63bbdc4",
   "metadata": {},
   "outputs": [],
   "source": [
    "plot(time_steps, H_wave, label = \"H\")\n",
    "xlabel!(\"time (sec)\")\n",
    "ylabel!(\"H\")"
   ]
  },
  {
   "cell_type": "code",
   "execution_count": null,
   "id": "1a1832ad-c951-4414-bed2-4da0f2e65653",
   "metadata": {},
   "outputs": [],
   "source": [
    "print(\" ▸ Saving CSV files .... \\r\")\n",
    "start = time_ns()\n",
    "Bx_mat = DataFrame(hcat(Bx...), :auto)\n",
    "CSV.write(\"../csv/stedin_transformer_Bx_transient.csv\", Bx_mat)\n",
    "By_mat = DataFrame(hcat(By...), :auto)\n",
    "CSV.write(\"../csv/stedin_transformer_By_transient.csv\", By_mat)\n",
    "B_mat = DataFrame(hcat(B...), :auto)\n",
    "CSV.write(\"../csv/stedin_transformer_B_transient.csv\", B_mat)\n",
    "Hx_mat = DataFrame(hcat(Hx...), :auto)\n",
    "CSV.write(\"../csv/stedin_transformer_Hx_transient.csv\", Hx_mat)\n",
    "Hy_mat = DataFrame(hcat(Hy...), :auto)\n",
    "CSV.write(\"../csv/stedin_transformer_Hy_transient.csv\", Hy_mat)\n",
    "H_mat = DataFrame(hcat(H...), :auto)\n",
    "CSV.write(\"../csv/stedin_transformer_H_transient.csv\", H_mat)\n",
    "mag_energy_mat = DataFrame(hcat(mag_energy...), :auto)\n",
    "CSV.write(\"../csv/stedin_transformer_mag_energy_transient.csv\", mag_energy_mat)\n",
    "elapsed = round((time_ns() - start)/10^9, digits=2)\n",
    "println(\" ✓ CSV files saved (\"*string(elapsed)*\" seconds)                               \")"
   ]
  },
  {
   "cell_type": "code",
   "execution_count": null,
   "id": "a203695b",
   "metadata": {},
   "outputs": [],
   "source": []
  }
 ],
 "metadata": {
  "kernelspec": {
   "display_name": "Julia 1.8.5",
   "language": "julia",
   "name": "julia-1.8"
  },
  "language_info": {
   "file_extension": ".jl",
   "mimetype": "application/julia",
   "name": "julia",
   "version": "1.8.5"
  }
 },
 "nbformat": 4,
 "nbformat_minor": 5
}
