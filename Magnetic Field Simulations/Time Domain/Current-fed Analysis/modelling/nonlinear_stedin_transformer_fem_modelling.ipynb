{
 "cells": [
  {
   "cell_type": "markdown",
   "id": "af70a261",
   "metadata": {},
   "source": [
    "# FEM Modelling for STEDIN Transformer"
   ]
  },
  {
   "cell_type": "markdown",
   "id": "4db1895b-7cc7-458d-a7d4-6c8c59d34f30",
   "metadata": {},
   "source": [
    "In this part, the conducitvity of the core material is modelled as 0. Therefore, there areno eddy current effects."
   ]
  },
  {
   "cell_type": "markdown",
   "id": "5063ccfe",
   "metadata": {},
   "source": [
    "## Import Packages"
   ]
  },
  {
   "cell_type": "code",
   "execution_count": 1,
   "id": "012e9206",
   "metadata": {},
   "outputs": [],
   "source": [
    "using gmsh\n",
    "using LinearAlgebra\n",
    "using LaTeXStrings\n",
    "using Plots\n",
    "using CSV\n",
    "using DataFrames\n",
    "include(\"../../../lib/Makie_Plots.jl\");\n",
    "using .Makie_Plots\n",
    "include(\"../../../lib/FEM_Transient_Tri_1e.jl\");\n",
    "using .FEM_Transient_Tri_1e\n",
    "include(\"../../../lib/Mesh_Data_stedin.jl\");\n",
    "using .Mesh_Data_stedin\n",
    "include(\"../../../lib/Save_VTK.jl\");\n",
    "using .Save_VTK"
   ]
  },
  {
   "cell_type": "markdown",
   "id": "a9284d46",
   "metadata": {},
   "source": [
    "## Julia code"
   ]
  },
  {
   "cell_type": "code",
   "execution_count": null,
   "id": "a2d869f5",
   "metadata": {},
   "outputs": [],
   "source": [
    "gmsh.initialize()\n",
    "\n",
    "## Read mesh from file\n",
    "gmsh.open(\"../mesh/stedin_transformer.msh\")\n",
    "\n",
    "mesh_data = get_mesh_data_tri_1e(gmsh)\n",
    "\n",
    "Ip = 0;       # Primary peak phase current\n",
    "Is = 777.62;  # Secondary peak phase current\n",
    "Np = 266;\n",
    "Ns = 6;\n",
    "\n",
    "omega = 2*pi*50;  # Frequency\n",
    "\n",
    "# HV winding dimensions (all phases left/right are identical)\n",
    "wwhv = 3e-2;\n",
    "hwhv = 74e-2;\n",
    "mwhv = 14.75e-2;\n",
    "Awhv = wwhv * hwhv;\n",
    "\n",
    "# LV winding dimensions (all phases left/right are identical)\n",
    "wwlv = 2e-2;\n",
    "hwlv = 74e-2;\n",
    "mwlv = 11.25e-2;\n",
    "Awlv = wwlv * hwlv;\n",
    "\n",
    "# Calculate current density in the windings\n",
    "Jp = Np * Ip / Awhv;\n",
    "Js = Ns * Is / Awlv;\n",
    "\n",
    "# Specify time start, end and step\n",
    "init_time = 0\n",
    "final_time = 3*(2*pi/omega)\n",
    "dt = (final_time-init_time) / 300\n",
    "time_steps = Vector(init_time:dt:final_time)\n",
    "\n",
    "# Source current density J\n",
    "# One term for each of the windings, with a positive and negative part\n",
    "# Note the phase shift between the phases\n",
    "sourcefunction(group_id) = Jp * exp(1im * 2pi/3) * (-1 * (group_id==3) + 1 * (group_id==4)) + \n",
    "                           Jp * (-1 * (group_id==5) + 1 * (group_id==6)) + \n",
    "                           Jp * exp(-1im * 2pi/3) * (-1 * (group_id==7) + 1 * (group_id==8)) + \n",
    "                           Js * exp(1im * 2pi/3) * (1 * (group_id==9) - 1 * (group_id==10)) +\n",
    "                           Js * (1 * (group_id==11) - 1 * (group_id==12)) + \n",
    "                           Js * exp(-1im * 2pi/3) * (1 * (group_id==13) - 1 * (group_id==14));\n",
    "sourceperelement = map(sourcefunction, mesh_data.e_group);\n",
    "\n",
    "# Relative permeability model\n",
    "mu0 = 4e-7 * pi;\n",
    "mur = 2.5e4;       # Relative permeability of the core\n",
    "reluctivityfunction(group_id) = (1 / mu0) + (1/(mu0*mur) - 1/mu0) * (group_id == 2)\n",
    "reluctivityperelement = map(reluctivityfunction, mesh_data.e_group);\n",
    "\n",
    "# Conductivity\n",
    "conductivityfunction(group_id) = 0;\n",
    "conductivityperelement = map(conductivityfunction, mesh_data.e_group);\n",
    "\n",
    "# Handle the boundary conditions\n",
    "bnd_node_ids, _ = gmsh.model.mesh.getNodesForPhysicalGroup(1, 1);\n",
    "\n",
    "# Calculate the vector potential\n",
    "u = fem_nonlinear(mesh_data, sourceperelement, reluctivityperelement, conductivityperelement, omega, bnd_node_ids, time_steps);\n",
    "\n",
    "# Post-process for magnetic field and current density\n",
    "Bx, By, B, Hx, Hy, H, mag_energy = post_process(mesh_data, u, reluctivityperelement, time_steps);\n",
    "\n",
    "# # Contour plot of the magnetic flux density\n",
    "# plot_surface_tri_1e(norm.(B), \"nonlinear_stedin_transformer_B_plot_without_eddy\", gmsh)\n",
    "# # Contour plot of the magnetic field strength\n",
    "# plot_surface_tri_1e(norm.(H), \"nonlinear_stedin_transformer_H_plot_without_eddy\", gmsh)\n",
    "# # Contour plot of the magnetic energy\n",
    "# plot_surface_tri_1e(norm.(mag_energy), \"nonlinear_stedin_transformer_mag_energy_plot_without_eddy\", gmsh)\n",
    "\n",
    "# # Save as VTK file for Paraview visualization\n",
    "# save_vtk(mesh_data, norm.(u), norm.(B), norm.(H), norm.(mag_energy), reluctivityperelement, \"nonlinear_stedin_transformer_without_eddy\")\n",
    "\n",
    "gmsh.finalize()"
   ]
  },
  {
   "cell_type": "code",
   "execution_count": null,
   "id": "bfddc4da-e35c-4b6b-84a5-fd764c8e8edd",
   "metadata": {},
   "outputs": [],
   "source": [
    "u_wave = [u_curr[5000] for u_curr in u];\n",
    "Bx_wave = [Bx_curr[5000] for Bx_curr in Bx];\n",
    "By_wave = [By_curr[5000] for By_curr in By];\n",
    "B_wave = [B_curr[5000] for B_curr in B];\n",
    "Hx_wave = [Hx_curr[5000] for Hx_curr in Hx];\n",
    "Hy_wave = [Hy_curr[5000] for Hy_curr in Hy];\n",
    "H_wave = [H_curr[5000] for H_curr in H];\n",
    "mag_energy_wave = [mag_energy_curr[5000] for mag_energy_curr in mag_energy];"
   ]
  },
  {
   "cell_type": "code",
   "execution_count": null,
   "id": "af946297-d534-462a-83dc-f028dabe723f",
   "metadata": {},
   "outputs": [],
   "source": [
    "plot(time_steps, real(u_wave), label = \"u\")\n",
    "xlabel!(\"time (sec)\")\n",
    "ylabel!(\"u\")"
   ]
  },
  {
   "cell_type": "code",
   "execution_count": null,
   "id": "d2be2f4e-e970-4f42-8803-9e74f0d6dfa5",
   "metadata": {},
   "outputs": [],
   "source": [
    "plot(time_steps, real(Bx_wave), label = \"Bx\")\n",
    "xlabel!(\"time (sec)\")\n",
    "ylabel!(\"Bx\")"
   ]
  },
  {
   "cell_type": "code",
   "execution_count": null,
   "id": "d2f1f90b-8691-4978-9933-0b2a0454980a",
   "metadata": {},
   "outputs": [],
   "source": [
    "plot(time_steps, real(By_wave), label = \"By\")\n",
    "xlabel!(\"time (sec)\")\n",
    "ylabel!(\"By\")"
   ]
  },
  {
   "cell_type": "code",
   "execution_count": null,
   "id": "22152bcb-52cf-4bf8-ad7c-9e2137a43e3a",
   "metadata": {},
   "outputs": [],
   "source": [
    "plot(time_steps, real(B_wave), label = \"B\")\n",
    "xlabel!(\"time (sec)\")\n",
    "ylabel!(\"B\")"
   ]
  },
  {
   "cell_type": "code",
   "execution_count": null,
   "id": "1a1832ad-c951-4414-bed2-4da0f2e65653",
   "metadata": {},
   "outputs": [],
   "source": [
    "Bx_mat = DataFrame(real(hcat(Bx...)), :auto)\n",
    "CSV.write(\"../csv/stedin_transformer_Bx_trasient_nonlinear.csv\", Bx_mat)\n",
    "By_mat = DataFrame(real(hcat(By...)), :auto)\n",
    "CSV.write(\"../csv/stedin_transformer_By_trasient_nonlinear.csv\", By_mat)\n",
    "B_mat = DataFrame(real(hcat(B...)), :auto)\n",
    "CSV.write(\"../csv/stedin_transformer_B_trasient_nonlinear.csv\", B_mat)\n",
    "Hx_mat = DataFrame(real(hcat(Hx...)), :auto)\n",
    "CSV.write(\"../csv/stedin_transformer_Hx_trasient_nonlinear.csv\", Hx_mat)\n",
    "Hy_mat = DataFrame(real(hcat(Hy...)), :auto)\n",
    "CSV.write(\"../csv/stedin_transformer_Hy_trasient_nonlinear.csv\", Hy_mat)\n",
    "H_mat = DataFrame(real(hcat(H...)), :auto)\n",
    "CSV.write(\"../csv/stedin_transformer_H_trasient_nonlinear.csv\", H_mat)\n",
    "mag_energy_mat = DataFrame(real(hcat(mag_energy...)), :auto)\n",
    "CSV.write(\"../csv/stedin_transformer_mag_energy_trasient.csv\", mag_energy_mat)"
   ]
  },
  {
   "cell_type": "markdown",
   "id": "4d56ad6b-bd80-4057-b51b-d0e225d81644",
   "metadata": {},
   "source": [
    "### STEDIN Transformer : Magnetic field density\n",
    "<img src=\"../img/stedin_transformer_B_plot_without_eddy.png\">\n",
    "\n",
    "### STEDIN Transformer : Magnetic field strength\n",
    "<img src=\"../img/stedin_transformer_H_plot_without_eddy.png\">\n",
    "\n",
    "### STEDIN Transformer : Magnetic energy\n",
    "<img src=\"../img/stedin_transformer_mag_energy_plot_without_eddy.png\">"
   ]
  },
  {
   "cell_type": "code",
   "execution_count": null,
   "id": "a203695b",
   "metadata": {},
   "outputs": [],
   "source": []
  }
 ],
 "metadata": {
  "kernelspec": {
   "display_name": "Julia 1.8.5",
   "language": "julia",
   "name": "julia-1.8"
  },
  "language_info": {
   "file_extension": ".jl",
   "mimetype": "application/julia",
   "name": "julia",
   "version": "1.8.5"
  }
 },
 "nbformat": 4,
 "nbformat_minor": 5
}
