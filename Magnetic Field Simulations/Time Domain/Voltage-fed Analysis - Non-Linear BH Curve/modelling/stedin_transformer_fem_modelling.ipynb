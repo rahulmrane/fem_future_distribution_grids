{
 "cells": [
  {
   "cell_type": "markdown",
   "id": "af70a261",
   "metadata": {},
   "source": [
    "# FEM Modelling for Three-Phase STEDIN Transformer"
   ]
  },
  {
   "cell_type": "markdown",
   "id": "4db1895b-7cc7-458d-a7d4-6c8c59d34f30",
   "metadata": {},
   "source": [
    "### Transient + Voltage fed Analysis\n",
    "\n",
    "General FEM equation, \n",
    "\\begin{equation}\n",
    "    Au + B \\frac{\\partial u}{\\partial t} = f\n",
    "\\end{equation}\n",
    "\n",
    "Circuit equation,\n",
    "\\begin{equation}\n",
    "    V = G'\\frac{\\partial u}{\\partial t} + R_{ext}I + L_{ext} \\frac{\\partial I}{\\partial t}\n",
    "\\end{equation}\n",
    "\n",
    "Combining and writing in time-stepping format,\n",
    "\\begin{equation}\n",
    "    \\begin{bmatrix}\n",
    "        \\frac{B}{\\Delta t} + A & -f \\\\\n",
    "        \\frac{G^T}{\\Delta t} & R_{ext} + \\frac{L_{ext}}{\\Delta t}\n",
    "    \\end{bmatrix} \\begin{bmatrix}\n",
    "        u \\\\\n",
    "        I\n",
    "    \\end{bmatrix}^{t+\\Delta t} = \\begin{bmatrix}\n",
    "        \\frac{B}{\\Delta t} & 0 \\\\\n",
    "        \\frac{G^T}{\\Delta t} & \\frac{L_{ext}}{\\Delta t}\n",
    "    \\end{bmatrix} \\begin{bmatrix}\n",
    "        u \\\\\n",
    "        I\n",
    "    \\end{bmatrix}^{t} + \\begin{bmatrix}\n",
    "        0 \\\\\n",
    "        V^{t+\\Delta t}\n",
    "    \\end{bmatrix}\n",
    "\\end{equation}\n",
    "\n",
    "Simplifying,\n",
    "\\begin{equation}\n",
    "    \\begin{bmatrix}\n",
    "        B + \\Delta t A & - \\Delta t f \\\\\n",
    "        G^T & \\Delta t R_{ext} + L_{ext}\n",
    "    \\end{bmatrix} \\begin{bmatrix}\n",
    "        u \\\\\n",
    "        I\n",
    "    \\end{bmatrix}^{t+\\Delta t} = \\begin{bmatrix}\n",
    "        B & 0 \\\\\n",
    "        G^T & L_{ext}\n",
    "    \\end{bmatrix} \\begin{bmatrix}\n",
    "        u \\\\\n",
    "        I\n",
    "    \\end{bmatrix}^{t} + \\begin{bmatrix}\n",
    "        0 \\\\\n",
    "        \\Delta t V^{t+\\Delta t}\n",
    "    \\end{bmatrix}\n",
    "\\end{equation}"
   ]
  },
  {
   "cell_type": "markdown",
   "id": "5063ccfe",
   "metadata": {},
   "source": [
    "## Import Packages"
   ]
  },
  {
   "cell_type": "code",
   "execution_count": 1,
   "id": "012e9206",
   "metadata": {},
   "outputs": [],
   "source": [
    "using gmsh\n",
    "using LinearAlgebra\n",
    "using LaTeXStrings\n",
    "using Plots\n",
    "using CSV\n",
    "using DataFrames\n",
    "include(\"../../../../lib/Makie_Plots.jl\");\n",
    "using .Makie_Plots\n",
    "include(\"../../../../lib/FEM_Transient_VoltageFed_Tri_1e.jl\");\n",
    "using .FEM_Transient_VoltageFed_Tri_1e\n",
    "include(\"../../../../lib/Post_Process_Time.jl\");\n",
    "using .Post_Process_Time\n",
    "include(\"../../../../lib/Mesh_Data_stedin.jl\");\n",
    "using .Mesh_Data_stedin\n",
    "include(\"../../../../lib/Save_VTK.jl\");\n",
    "using .Save_VTK"
   ]
  },
  {
   "cell_type": "markdown",
   "id": "a9284d46",
   "metadata": {},
   "source": [
    "## Julia code"
   ]
  },
  {
   "cell_type": "code",
   "execution_count": null,
   "id": "a2d869f5",
   "metadata": {},
   "outputs": [],
   "source": [
    "gmsh.initialize()\n",
    "\n",
    "## Read mesh from file\n",
    "gmsh.open(\"../../../../Geometry/mesh/stedin_transformer.msh\")\n",
    "\n",
    "mesh_data = get_mesh_data_tri_1e(gmsh)\n",
    "\n",
    "Ip = 17.54;   # Primary peak phase current\n",
    "Is = 777.62;  # Secondary peak phase current\n",
    "Vp = 15202.40;   # Primary peak phase voltage\n",
    "Vs = 342.93;     # Secondary peak phase voltage\n",
    "Np = 266;\n",
    "Ns = 6;\n",
    "\n",
    "omega = 2*pi*50;  # Frequency\n",
    "\n",
    "# HV winding dimensions (all phases left/right are identical)\n",
    "wwhv = 3e-2;\n",
    "hwhv = 74e-2;\n",
    "mwhv = 14.75e-2;\n",
    "Awhv = wwhv * hwhv;\n",
    "\n",
    "# LV winding dimensions (all phases left/right are identical)\n",
    "wwlv = 2e-2;\n",
    "hwlv = 74e-2;\n",
    "mwlv = 11.25e-2;\n",
    "Awlv = wwlv * hwlv;\n",
    "\n",
    "# Calculate turn density in the windings\n",
    "Tp = Np / Awhv;\n",
    "Ts = Ns / Awlv;\n",
    "\n",
    "# Specify time start, end and step\n",
    "init_time = 0\n",
    "n_cycles = 10\n",
    "final_time = n_cycles*(2*pi/omega)\n",
    "dt = (final_time-init_time) / (30*n_cycles)\n",
    "time_steps = Vector(init_time:dt:final_time)\n",
    "\n",
    "# Source turn density T\n",
    "# One term for each of the windings, with a positive and negative part\n",
    "sourcefunction(group_id) = [Tp*(1*(group_id==3))  -Tp*(1*(group_id==4)) Tp*(1*(group_id==5))  -Tp*(1*(group_id==6)) Tp*(1*(group_id==7))  -Tp*(1*(group_id==8))   Ts*(1*(group_id==9))  -Ts*(1*(group_id==10)) Ts*(1*(group_id==11))  -Ts*(1*(group_id==12)) Ts*(1*(group_id==13))  -Ts*(1*(group_id==14))];\n",
    "sourceperelement = map(sourcefunction, mesh_data.e_group);\n",
    "\n",
    "# Source voltage V\n",
    "# One term for each of the windings, with a positive and negative part\n",
    "coil_voltage = [Vp*exp(1im*-2pi/3); Vp*exp(1im*-2pi/3); Vp; Vp; Vp*exp(1im*2pi/3); Vp*exp(1im*2pi/3); 0; 0; 0; 0; 0; 0];\n",
    "\n",
    "# External resistance Rext\n",
    "# One term for each of the windings, with a positive and negative part\n",
    "ext_resistance = [90.655; 90.655; 90.655; 90.655; 90.655; 90.655; 1.2999e-3; 1.2999e-3; 1.2999e-3; 1.2999e-3; 1.2999e-3; 1.2999e-3];\n",
    "\n",
    "# External resistance Rext\n",
    "# One term for each of the windings, with a positive and negative part\n",
    "ext_inductance = 1e-4.*[1; 1; 1; 1; 1; 1; 1; 1; 1; 1; 1; 1];\n",
    "\n",
    "# Relative permeability model\n",
    "mu0 = 4e-7 * pi;\n",
    "mur = 2.5e4;       # Relative permeability of the core\n",
    "reluctivityfunction(group_id) = (1 / mu0) + (1/(mu0*mur) - 1/mu0) * (group_id == 2)\n",
    "reluctivityperelement = map(reluctivityfunction, mesh_data.e_group);\n",
    "\n",
    "# Conductivity\n",
    "conductivityfunction(group_id) = 0;\n",
    "conductivityperelement = map(conductivityfunction, mesh_data.e_group);\n",
    "\n",
    "# Handle the boundary conditions\n",
    "bnd_node_ids, _ = gmsh.model.mesh.getNodesForPhysicalGroup(1, 1);\n",
    "\n",
    "# Calculate the vector potential\n",
    "u = fem_nonlinear(mesh_data, sourceperelement, reluctivityperelement, conductivityperelement, omega, bnd_node_ids, coil_voltage, ext_resistance, ext_inductance, time_steps);\n",
    "\n",
    "# Post-process for magnetic field and current density\n",
    "Bx, By, B, Hx, Hy, H, mag_energy = post_process(mesh_data, u, reluctivityperelement, time_steps);\n",
    "\n",
    "gmsh.finalize()"
   ]
  },
  {
   "cell_type": "markdown",
   "id": "13b2cdfd",
   "metadata": {},
   "source": [
    "## Plots"
   ]
  },
  {
   "cell_type": "code",
   "execution_count": null,
   "id": "bfddc4da-e35c-4b6b-84a5-fd764c8e8edd",
   "metadata": {},
   "outputs": [],
   "source": [
    "selected_node = 4276\n",
    "selected_element = 7051\n",
    "u_wave = [u_curr[selected_node] for u_curr in u];\n",
    "V1_wave = complex(zeros(length(time_steps),1))\n",
    "for k = 1:length(time_steps)\n",
    "    V1_wave[k] = coil_voltage[1].*exp(1im*omega*time_steps[k])\n",
    "end\n",
    "I1_wave = [u_curr[end-2] for u_curr in u];\n",
    "Bx_wave = [Bx_curr[selected_element] for Bx_curr in Bx];\n",
    "By_wave = [By_curr[selected_element] for By_curr in By];\n",
    "B_wave = [B_curr[selected_element] for B_curr in B];\n",
    "Hx_wave = [Hx_curr[selected_element] for Hx_curr in Hx];\n",
    "Hy_wave = [Hy_curr[selected_element] for Hy_curr in Hy];\n",
    "H_wave = [H_curr[selected_element] for H_curr in H];\n",
    "mag_energy_wave = [mag_energy_curr[selected_element] for mag_energy_curr in mag_energy];"
   ]
  },
  {
   "cell_type": "code",
   "execution_count": null,
   "id": "34e5013f",
   "metadata": {},
   "outputs": [],
   "source": [
    "plot(time_steps, real(V1_wave), label = \"u\")\n",
    "xlabel!(\"time (sec)\")\n",
    "ylabel!(\"V1\")"
   ]
  },
  {
   "cell_type": "code",
   "execution_count": null,
   "id": "5b7c89f0",
   "metadata": {},
   "outputs": [],
   "source": [
    "plot(time_steps, real(I1_wave), label = \"u\")\n",
    "xlabel!(\"time (sec)\")\n",
    "ylabel!(\"I1\")"
   ]
  },
  {
   "cell_type": "code",
   "execution_count": null,
   "id": "af946297-d534-462a-83dc-f028dabe723f",
   "metadata": {},
   "outputs": [],
   "source": [
    "plot(time_steps, real(u_wave), label = \"u\")\n",
    "xlabel!(\"time (sec)\")\n",
    "ylabel!(\"u\")"
   ]
  },
  {
   "cell_type": "code",
   "execution_count": null,
   "id": "d2be2f4e-e970-4f42-8803-9e74f0d6dfa5",
   "metadata": {},
   "outputs": [],
   "source": [
    "plot(time_steps, real(Bx_wave), label = \"Bx\")\n",
    "xlabel!(\"time (sec)\")\n",
    "ylabel!(\"Bx\")"
   ]
  },
  {
   "cell_type": "code",
   "execution_count": null,
   "id": "d2f1f90b-8691-4978-9933-0b2a0454980a",
   "metadata": {},
   "outputs": [],
   "source": [
    "plot(time_steps, real(By_wave), label = \"By\")\n",
    "xlabel!(\"time (sec)\")\n",
    "ylabel!(\"By\")"
   ]
  },
  {
   "cell_type": "code",
   "execution_count": null,
   "id": "22152bcb-52cf-4bf8-ad7c-9e2137a43e3a",
   "metadata": {},
   "outputs": [],
   "source": [
    "plot(time_steps, real(B_wave), label = \"B\")\n",
    "xlabel!(\"time (sec)\")\n",
    "ylabel!(\"B\")"
   ]
  },
  {
   "cell_type": "code",
   "execution_count": null,
   "id": "e63bbdc4",
   "metadata": {},
   "outputs": [],
   "source": [
    "plot(time_steps, real(H_wave), label = \"H\")\n",
    "xlabel!(\"time (sec)\")\n",
    "ylabel!(\"H\")"
   ]
  },
  {
   "cell_type": "code",
   "execution_count": null,
   "id": "1a1832ad-c951-4414-bed2-4da0f2e65653",
   "metadata": {},
   "outputs": [],
   "source": [
    "Bx_mat = DataFrame(real(hcat(Bx...)), :auto)\n",
    "CSV.write(\"../csv/stedin_transformer_Bx_nonlinear.csv\", Bx_mat)\n",
    "By_mat = DataFrame(real(hcat(By...)), :auto)\n",
    "CSV.write(\"../csv/stedin_transformer_By_nonlinear.csv\", By_mat)\n",
    "B_mat = DataFrame(real(hcat(B...)), :auto)\n",
    "CSV.write(\"../csv/stedin_transformer_B_nonlinear.csv\", B_mat)\n",
    "Hx_mat = DataFrame(real(hcat(Hx...)), :auto)\n",
    "CSV.write(\"../csv/stedin_transformer_Hx_nonlinear.csv\", Hx_mat)\n",
    "Hy_mat = DataFrame(real(hcat(Hy...)), :auto)\n",
    "CSV.write(\"../csv/stedin_transformer_Hy_nonlinear.csv\", Hy_mat)\n",
    "H_mat = DataFrame(real(hcat(H...)), :auto)\n",
    "CSV.write(\"../csv/stedin_transformer_H_nonlinear.csv\", H_mat)\n",
    "mag_energy_mat = DataFrame(real(hcat(mag_energy...)), :auto)\n",
    "CSV.write(\"../csv/stedin_transformer_mag_energy_nonlinear.csv\", mag_energy_mat)"
   ]
  },
  {
   "cell_type": "code",
   "execution_count": null,
   "id": "d148d1fe",
   "metadata": {},
   "outputs": [],
   "source": [
    "display(maximum(real(B_wave)))"
   ]
  },
  {
   "cell_type": "code",
   "execution_count": null,
   "id": "be80a117",
   "metadata": {},
   "outputs": [],
   "source": []
  }
 ],
 "metadata": {
  "kernelspec": {
   "display_name": "Julia 1.8.5",
   "language": "julia",
   "name": "julia-1.8"
  },
  "language_info": {
   "file_extension": ".jl",
   "mimetype": "application/julia",
   "name": "julia",
   "version": "1.8.5"
  }
 },
 "nbformat": 4,
 "nbformat_minor": 5
}
