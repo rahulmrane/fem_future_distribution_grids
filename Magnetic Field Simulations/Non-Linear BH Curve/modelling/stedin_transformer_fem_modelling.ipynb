{
 "cells": [
  {
   "cell_type": "markdown",
   "id": "af70a261",
   "metadata": {},
   "source": [
    "# FEM Modelling for STEDIN Transformer"
   ]
  },
  {
   "cell_type": "markdown",
   "id": "4db1895b-7cc7-458d-a7d4-6c8c59d34f30",
   "metadata": {},
   "source": [
    "The nonlinear magnetic characteristic with hysteresis neglected can be approximated as given in [1].\n",
    "\\begin{equation}\n",
    "    \\frac{1}{\\mu} = k_1 e^{k_2B^2} + k_3\n",
    "\\end{equation}\n",
    "where, $k_1$, $k_2$ and $k_3$ are constants equal to 3.8, 2.17, and 396.2, respectively.\n",
    "\n",
    "[1] J. Brauer, “Simple equations for the magnetization and reluctivity curves of steel,” IEEE Transactions on Magnetics, vol. 11, no. 1, pp. 81–81, 1975."
   ]
  },
  {
   "cell_type": "markdown",
   "id": "5063ccfe",
   "metadata": {},
   "source": [
    "## Import Packages"
   ]
  },
  {
   "cell_type": "code",
   "execution_count": 1,
   "id": "012e9206",
   "metadata": {},
   "outputs": [],
   "source": [
    "using gmsh\n",
    "using LinearAlgebra\n",
    "using LaTeXStrings\n",
    "include(\"../../../lib/Makie_Plots.jl\");\n",
    "using .Makie_Plots\n",
    "include(\"../../../lib/FEM_Tri_1e.jl\");\n",
    "using .FEM_Tri_1e\n",
    "include(\"../../../lib/Mesh_Data_stedin.jl\");\n",
    "using .Mesh_Data_stedin\n",
    "include(\"../../../lib/Save_VTK.jl\");\n",
    "using .Save_VTK"
   ]
  },
  {
   "cell_type": "markdown",
   "id": "a9284d46",
   "metadata": {},
   "source": [
    "## Julia code"
   ]
  },
  {
   "cell_type": "code",
   "execution_count": 7,
   "id": "a2d869f5",
   "metadata": {},
   "outputs": [
    {
     "name": "stdout",
     "output_type": "stream",
     "text": [
      "Info    : Reading '../mesh/stedin_transformer.msh'...\n",
      "Info    : 168 entities\n",
      "Info    : 10385 nodes\n",
      "Info    : 20768 elements\n",
      "Info    : Done reading '../mesh/stedin_transformer.msh'\n"
     ]
    },
    {
     "name": "stderr",
     "output_type": "stream",
     "text": [
      "Warning : Gmsh has aleady been initialized\n"
     ]
    },
    {
     "data": {
      "text/plain": [
       "\"Done\""
      ]
     },
     "metadata": {},
     "output_type": "display_data"
    },
    {
     "ename": "LoadError",
     "evalue": "SingularException(0)",
     "output_type": "error",
     "traceback": [
      "SingularException(0)",
      "",
      "Stacktrace:",
      " [1] lu(S::SparseArrays.SparseMatrixCSC{ComplexF64, Int64}; check::Bool)",
      "   @ SuiteSparse.UMFPACK C:\\Users\\rahul\\AppData\\Local\\Programs\\Julia-1.8.5\\share\\julia\\stdlib\\v1.8\\SuiteSparse\\src\\umfpack.jl:203",
      " [2] lu",
      "   @ C:\\Users\\rahul\\AppData\\Local\\Programs\\Julia-1.8.5\\share\\julia\\stdlib\\v1.8\\SuiteSparse\\src\\umfpack.jl:195 [inlined]",
      " [3] \\(A::SparseArrays.SparseMatrixCSC{ComplexF64, Int64}, B::Matrix{ComplexF64})",
      "   @ SparseArrays C:\\Users\\rahul\\AppData\\Local\\Programs\\Julia-1.8.5\\share\\julia\\stdlib\\v1.8\\SparseArrays\\src\\linalg.jl:1580",
      " [4] fem(mesh_data::Main.Mesh_Data_stedin.mesh_data, sourceperelement::Matrix{ComplexF64}, reluctivityperelement::Matrix{Float64}, conductivityperelement::Matrix{Int64}, omega::Float64, bnd_node_ids::Vector{UInt64})",
      "   @ Main.FEM_Tri_1e C:\\Users\\rahul\\Documents\\TU Delft\\FEM TA\\Git Version\\fem_future_distribution_grids\\lib\\FEM_Tri_1e.jl:61",
      " [5] top-level scope",
      "   @ .\\In[7]:74"
     ]
    }
   ],
   "source": [
    "function mu_func(B)\n",
    "    k1 = 3.8;\n",
    "    k2 = 2.17;\n",
    "    k3 = 396.2;\n",
    "    v = k1 * exp(k2*B^2) + k3;\n",
    "    return (1 ./ v)\n",
    "end\n",
    "\n",
    "gmsh.initialize()\n",
    "\n",
    "## Read mesh from file\n",
    "gmsh.open(\"../mesh/stedin_transformer.msh\")\n",
    "\n",
    "mesh_data = get_mesh_data_tri_1e(gmsh)\n",
    "\n",
    "Ip = 0;       # Primary peak phase current\n",
    "Is = 777.62;  # Secondary peak phase current\n",
    "Np = 266;\n",
    "Ns = 6;\n",
    "\n",
    "omega = 2*pi*50;  # Frequency\n",
    "\n",
    "# HV winding dimensions (all phases left/right are identical)\n",
    "wwhv = 3e-2;\n",
    "hwhv = 74e-2;\n",
    "mwhv = 14.75e-2;\n",
    "Awhv = wwhv * hwhv;\n",
    "\n",
    "# LV winding dimensions (all phases left/right are identical)\n",
    "wwlv = 2e-2;\n",
    "hwlv = 74e-2;\n",
    "mwlv = 11.25e-2;\n",
    "Awlv = wwlv * hwlv;\n",
    "\n",
    "# Calculate current density in the windings\n",
    "Jp = Np * Ip / Awhv;\n",
    "Js = Ns * Is / Awlv;\n",
    "\n",
    "# Source current density J\n",
    "# One term for each of the windings, with a positive and negative part\n",
    "# Note the phase shift between the phases\n",
    "sourcefunction(group_id) = Jp * exp(1im * 2pi/3) * (-1 * (group_id==3) + 1 * (group_id==4)) + \n",
    "                           Jp * (-1 * (group_id==5) + 1 * (group_id==6)) + \n",
    "                           Jp * exp(-1im * 2pi/3) * (-1 * (group_id==7) + 1 * (group_id==8)) + \n",
    "                           Js * exp(1im * 2pi/3) * (1 * (group_id==9) - 1 * (group_id==10)) +\n",
    "                           Js * (1 * (group_id==11) - 1 * (group_id==12)) + \n",
    "                           Js * exp(-1im * 2pi/3) * (1 * (group_id==13) - 1 * (group_id==14));\n",
    "sourceperelement = map(sourcefunction, mesh_data.e_group);\n",
    "\n",
    "# Relative permeability model\n",
    "mu0 = 4e-7 * pi;\n",
    "mur = 2000;       # Relative permeability of the core\n",
    "reluctivityfunction(group_id) = (1 / mu0) + (1/(mu0*mur) - 1/mu0) * (group_id == 2)\n",
    "reluctivityperelement = map(reluctivityfunction, mesh_data.e_group);\n",
    "\n",
    "# Conductivity\n",
    "conductivityfunction(group_id) = 0;\n",
    "conductivityperelement = map(conductivityfunction, mesh_data.e_group);\n",
    "\n",
    "# Handle the boundary conditions\n",
    "bnd_node_ids, _ = gmsh.model.mesh.getNodesForPhysicalGroup(1, 1);\n",
    "\n",
    "mur_pts = findall(x->x==2, mesh_data.e_group)\n",
    "L = LinearIndices(mesh_data.e_group)\n",
    "mur_pts = L[mur_pts]\n",
    "    \n",
    "## Threshold value for the error\n",
    "threshold = 1e-6 .* ones(length(mur_pts))\n",
    "\n",
    "Bx, By, B, Hx, Hy, H, mag_energy = (0, 0, 0, 0, 0, 0, 0, 0);\n",
    "\n",
    "for loop = 1:10000\n",
    "    # Calculate the vector potential\n",
    "    u = fem(mesh_data, sourceperelement, reluctivityperelement, conductivityperelement, omega, bnd_node_ids);\n",
    "\n",
    "    # Post-process for magnetic field and current density\n",
    "    Bx, By, B, Hx, Hy, H, mag_energy = post_process(mesh_data, u, reluctivityperelement);\n",
    "\n",
    "    ## Check the error with the threshold values\n",
    "    if abs.((1 ./ mu_func.(abs.(B[mur_pts]))) - reluctivityperelement[mur_pts]) <= threshold\n",
    "        break;\n",
    "    end\n",
    "\n",
    "    ## Assign new value of mur\n",
    "    reluctivityperelement[mur_pts] = 1 ./ mu_func.(abs.(B[mur_pts]));\n",
    "end\n",
    "\n",
    "# Contour plot of the magnetic flux density\n",
    "plot_surface_tri_1e(norm.(B), \"stedin_transformer_B_plot_nonlinear\", gmsh)\n",
    "# Contour plot of the magnetic field strength\n",
    "plot_surface_tri_1e(norm.(H), \"stedin_transformer_H_plot_nonlinear\", gmsh)\n",
    "# Contour plot of the magnetic energy\n",
    "plot_surface_tri_1e(norm.(mag_energy), \"stedin_transformer_mag_energy_plot_nonlinear\", gmsh)\n",
    "\n",
    "# Save as VTK file for Paraview visualization\n",
    "save_vtk(mesh_data, norm.(u), norm.(B), norm.(H), norm.(mag_energy), reluctivityperelement, \"stedin_transformer_nonlinear\")\n",
    "\n",
    "gmsh.finalize()"
   ]
  },
  {
   "cell_type": "markdown",
   "id": "4d56ad6b-bd80-4057-b51b-d0e225d81644",
   "metadata": {},
   "source": [
    "### STEDIN Transformer : Magnetic field density\n",
    "<img src=\"../img/stedin_transformer_B_plot_nonlinear.png\">\n",
    "\n",
    "### STEDIN Transformer : Magnetic field strength\n",
    "<img src=\"../img/stedin_transformer_H_plot_nonlinear.png\">\n",
    "\n",
    "### STEDIN Transformer : Magnetic energy\n",
    "<img src=\"../img/stedin_transformer_mag_energy_plot_nonlinear.png\">"
   ]
  },
  {
   "cell_type": "code",
   "execution_count": 3,
   "id": "44c8c862-cf6f-478c-8eed-818934a46409",
   "metadata": {},
   "outputs": [
    {
     "data": {
      "image/svg+xml": [
       "<?xml version=\"1.0\" encoding=\"utf-8\"?>\n",
       "<svg xmlns=\"http://www.w3.org/2000/svg\" xmlns:xlink=\"http://www.w3.org/1999/xlink\" width=\"600\" height=\"400\" viewBox=\"0 0 2400 1600\">\n",
       "<defs>\n",
       "  <clipPath id=\"clip370\">\n",
       "    <rect x=\"0\" y=\"0\" width=\"2400\" height=\"1600\"/>\n",
       "  </clipPath>\n",
       "</defs>\n",
       "<path clip-path=\"url(#clip370)\" d=\"M0 1600 L2400 1600 L2400 0 L0 0  Z\" fill=\"#ffffff\" fill-rule=\"evenodd\" fill-opacity=\"1\"/>\n",
       "<defs>\n",
       "  <clipPath id=\"clip371\">\n",
       "    <rect x=\"480\" y=\"0\" width=\"1681\" height=\"1600\"/>\n",
       "  </clipPath>\n",
       "</defs>\n",
       "<path clip-path=\"url(#clip370)\" d=\"M201.019 1486.45 L2352.76 1486.45 L2352.76 47.2441 L201.019 47.2441  Z\" fill=\"#ffffff\" fill-rule=\"evenodd\" fill-opacity=\"1\"/>\n",
       "<defs>\n",
       "  <clipPath id=\"clip372\">\n",
       "    <rect x=\"201\" y=\"47\" width=\"2153\" height=\"1440\"/>\n",
       "  </clipPath>\n",
       "</defs>\n",
       "<polyline clip-path=\"url(#clip372)\" style=\"stroke:#000000; stroke-linecap:round; stroke-linejoin:round; stroke-width:2; stroke-opacity:0.1; fill:none\" points=\"261.917,1486.45 261.917,47.2441 \"/>\n",
       "<polyline clip-path=\"url(#clip372)\" style=\"stroke:#000000; stroke-linecap:round; stroke-linejoin:round; stroke-width:2; stroke-opacity:0.1; fill:none\" points=\"769.403,1486.45 769.403,47.2441 \"/>\n",
       "<polyline clip-path=\"url(#clip372)\" style=\"stroke:#000000; stroke-linecap:round; stroke-linejoin:round; stroke-width:2; stroke-opacity:0.1; fill:none\" points=\"1276.89,1486.45 1276.89,47.2441 \"/>\n",
       "<polyline clip-path=\"url(#clip372)\" style=\"stroke:#000000; stroke-linecap:round; stroke-linejoin:round; stroke-width:2; stroke-opacity:0.1; fill:none\" points=\"1784.37,1486.45 1784.37,47.2441 \"/>\n",
       "<polyline clip-path=\"url(#clip372)\" style=\"stroke:#000000; stroke-linecap:round; stroke-linejoin:round; stroke-width:2; stroke-opacity:0.1; fill:none\" points=\"2291.86,1486.45 2291.86,47.2441 \"/>\n",
       "<polyline clip-path=\"url(#clip370)\" style=\"stroke:#000000; stroke-linecap:round; stroke-linejoin:round; stroke-width:4; stroke-opacity:1; fill:none\" points=\"201.019,1486.45 2352.76,1486.45 \"/>\n",
       "<polyline clip-path=\"url(#clip370)\" style=\"stroke:#000000; stroke-linecap:round; stroke-linejoin:round; stroke-width:4; stroke-opacity:1; fill:none\" points=\"261.917,1486.45 261.917,1467.55 \"/>\n",
       "<polyline clip-path=\"url(#clip370)\" style=\"stroke:#000000; stroke-linecap:round; stroke-linejoin:round; stroke-width:4; stroke-opacity:1; fill:none\" points=\"769.403,1486.45 769.403,1467.55 \"/>\n",
       "<polyline clip-path=\"url(#clip370)\" style=\"stroke:#000000; stroke-linecap:round; stroke-linejoin:round; stroke-width:4; stroke-opacity:1; fill:none\" points=\"1276.89,1486.45 1276.89,1467.55 \"/>\n",
       "<polyline clip-path=\"url(#clip370)\" style=\"stroke:#000000; stroke-linecap:round; stroke-linejoin:round; stroke-width:4; stroke-opacity:1; fill:none\" points=\"1784.37,1486.45 1784.37,1467.55 \"/>\n",
       "<polyline clip-path=\"url(#clip370)\" style=\"stroke:#000000; stroke-linecap:round; stroke-linejoin:round; stroke-width:4; stroke-opacity:1; fill:none\" points=\"2291.86,1486.45 2291.86,1467.55 \"/>\n",
       "<path clip-path=\"url(#clip370)\" d=\"M239.8 1517.37 Q236.188 1517.37 234.36 1520.93 Q232.554 1524.47 232.554 1531.6 Q232.554 1538.71 234.36 1542.27 Q236.188 1545.82 239.8 1545.82 Q243.434 1545.82 245.239 1542.27 Q247.068 1538.71 247.068 1531.6 Q247.068 1524.47 245.239 1520.93 Q243.434 1517.37 239.8 1517.37 M239.8 1513.66 Q245.61 1513.66 248.665 1518.27 Q251.744 1522.85 251.744 1531.6 Q251.744 1540.33 248.665 1544.94 Q245.61 1549.52 239.8 1549.52 Q233.989 1549.52 230.911 1544.94 Q227.855 1540.33 227.855 1531.6 Q227.855 1522.85 230.911 1518.27 Q233.989 1513.66 239.8 1513.66 Z\" fill=\"#000000\" fill-rule=\"evenodd\" fill-opacity=\"1\" /><path clip-path=\"url(#clip370)\" d=\"M259.961 1542.97 L264.846 1542.97 L264.846 1548.85 L259.961 1548.85 L259.961 1542.97 Z\" fill=\"#000000\" fill-rule=\"evenodd\" fill-opacity=\"1\" /><path clip-path=\"url(#clip370)\" d=\"M275.077 1514.29 L293.434 1514.29 L293.434 1518.22 L279.36 1518.22 L279.36 1526.7 Q280.378 1526.35 281.397 1526.19 Q282.415 1526 283.434 1526 Q289.221 1526 292.6 1529.17 Q295.98 1532.34 295.98 1537.76 Q295.98 1543.34 292.508 1546.44 Q289.035 1549.52 282.716 1549.52 Q280.54 1549.52 278.272 1549.15 Q276.026 1548.78 273.619 1548.04 L273.619 1543.34 Q275.702 1544.47 277.924 1545.03 Q280.147 1545.58 282.623 1545.58 Q286.628 1545.58 288.966 1543.48 Q291.304 1541.37 291.304 1537.76 Q291.304 1534.15 288.966 1532.04 Q286.628 1529.94 282.623 1529.94 Q280.748 1529.94 278.873 1530.35 Q277.022 1530.77 275.077 1531.65 L275.077 1514.29 Z\" fill=\"#000000\" fill-rule=\"evenodd\" fill-opacity=\"1\" /><path clip-path=\"url(#clip370)\" d=\"M736.556 1544.91 L744.194 1544.91 L744.194 1518.55 L735.884 1520.21 L735.884 1515.95 L744.148 1514.29 L748.824 1514.29 L748.824 1544.91 L756.463 1544.91 L756.463 1548.85 L736.556 1548.85 L736.556 1544.91 Z\" fill=\"#000000\" fill-rule=\"evenodd\" fill-opacity=\"1\" /><path clip-path=\"url(#clip370)\" d=\"M765.907 1542.97 L770.791 1542.97 L770.791 1548.85 L765.907 1548.85 L765.907 1542.97 Z\" fill=\"#000000\" fill-rule=\"evenodd\" fill-opacity=\"1\" /><path clip-path=\"url(#clip370)\" d=\"M790.977 1517.37 Q787.365 1517.37 785.537 1520.93 Q783.731 1524.47 783.731 1531.6 Q783.731 1538.71 785.537 1542.27 Q787.365 1545.82 790.977 1545.82 Q794.611 1545.82 796.416 1542.27 Q798.245 1538.71 798.245 1531.6 Q798.245 1524.47 796.416 1520.93 Q794.611 1517.37 790.977 1517.37 M790.977 1513.66 Q796.787 1513.66 799.842 1518.27 Q802.921 1522.85 802.921 1531.6 Q802.921 1540.33 799.842 1544.94 Q796.787 1549.52 790.977 1549.52 Q785.166 1549.52 782.088 1544.94 Q779.032 1540.33 779.032 1531.6 Q779.032 1522.85 782.088 1518.27 Q785.166 1513.66 790.977 1513.66 Z\" fill=\"#000000\" fill-rule=\"evenodd\" fill-opacity=\"1\" /><path clip-path=\"url(#clip370)\" d=\"M1244.54 1544.91 L1252.18 1544.91 L1252.18 1518.55 L1243.87 1520.21 L1243.87 1515.95 L1252.13 1514.29 L1256.81 1514.29 L1256.81 1544.91 L1264.45 1544.91 L1264.45 1548.85 L1244.54 1548.85 L1244.54 1544.91 Z\" fill=\"#000000\" fill-rule=\"evenodd\" fill-opacity=\"1\" /><path clip-path=\"url(#clip370)\" d=\"M1273.89 1542.97 L1278.77 1542.97 L1278.77 1548.85 L1273.89 1548.85 L1273.89 1542.97 Z\" fill=\"#000000\" fill-rule=\"evenodd\" fill-opacity=\"1\" /><path clip-path=\"url(#clip370)\" d=\"M1289.01 1514.29 L1307.36 1514.29 L1307.36 1518.22 L1293.29 1518.22 L1293.29 1526.7 Q1294.31 1526.35 1295.33 1526.19 Q1296.34 1526 1297.36 1526 Q1303.15 1526 1306.53 1529.17 Q1309.91 1532.34 1309.91 1537.76 Q1309.91 1543.34 1306.44 1546.44 Q1302.96 1549.52 1296.64 1549.52 Q1294.47 1549.52 1292.2 1549.15 Q1289.95 1548.78 1287.55 1548.04 L1287.55 1543.34 Q1289.63 1544.47 1291.85 1545.03 Q1294.08 1545.58 1296.55 1545.58 Q1300.56 1545.58 1302.89 1543.48 Q1305.23 1541.37 1305.23 1537.76 Q1305.23 1534.15 1302.89 1532.04 Q1300.56 1529.94 1296.55 1529.94 Q1294.68 1529.94 1292.8 1530.35 Q1290.95 1530.77 1289.01 1531.65 L1289.01 1514.29 Z\" fill=\"#000000\" fill-rule=\"evenodd\" fill-opacity=\"1\" /><path clip-path=\"url(#clip370)\" d=\"M1755.61 1544.91 L1771.93 1544.91 L1771.93 1548.85 L1749.99 1548.85 L1749.99 1544.91 Q1752.65 1542.16 1757.23 1537.53 Q1761.84 1532.88 1763.02 1531.53 Q1765.26 1529.01 1766.14 1527.27 Q1767.05 1525.51 1767.05 1523.82 Q1767.05 1521.07 1765.1 1519.33 Q1763.18 1517.6 1760.08 1517.6 Q1757.88 1517.6 1755.43 1518.36 Q1753 1519.13 1750.22 1520.68 L1750.22 1515.95 Q1753.04 1514.82 1755.5 1514.24 Q1757.95 1513.66 1759.99 1513.66 Q1765.36 1513.66 1768.55 1516.35 Q1771.75 1519.03 1771.75 1523.52 Q1771.75 1525.65 1770.94 1527.57 Q1770.15 1529.47 1768.04 1532.07 Q1767.46 1532.74 1764.36 1535.95 Q1761.26 1539.15 1755.61 1544.91 Z\" fill=\"#000000\" fill-rule=\"evenodd\" fill-opacity=\"1\" /><path clip-path=\"url(#clip370)\" d=\"M1781.75 1542.97 L1786.63 1542.97 L1786.63 1548.85 L1781.75 1548.85 L1781.75 1542.97 Z\" fill=\"#000000\" fill-rule=\"evenodd\" fill-opacity=\"1\" /><path clip-path=\"url(#clip370)\" d=\"M1806.81 1517.37 Q1803.2 1517.37 1801.37 1520.93 Q1799.57 1524.47 1799.57 1531.6 Q1799.57 1538.71 1801.37 1542.27 Q1803.2 1545.82 1806.81 1545.82 Q1810.45 1545.82 1812.25 1542.27 Q1814.08 1538.71 1814.08 1531.6 Q1814.08 1524.47 1812.25 1520.93 Q1810.45 1517.37 1806.81 1517.37 M1806.81 1513.66 Q1812.62 1513.66 1815.68 1518.27 Q1818.76 1522.85 1818.76 1531.6 Q1818.76 1540.33 1815.68 1544.94 Q1812.62 1549.52 1806.81 1549.52 Q1801 1549.52 1797.93 1544.94 Q1794.87 1540.33 1794.87 1531.6 Q1794.87 1522.85 1797.93 1518.27 Q1801 1513.66 1806.81 1513.66 Z\" fill=\"#000000\" fill-rule=\"evenodd\" fill-opacity=\"1\" /><path clip-path=\"url(#clip370)\" d=\"M2263.59 1544.91 L2279.91 1544.91 L2279.91 1548.85 L2257.97 1548.85 L2257.97 1544.91 Q2260.63 1542.16 2265.21 1537.53 Q2269.82 1532.88 2271 1531.53 Q2273.25 1529.01 2274.13 1527.27 Q2275.03 1525.51 2275.03 1523.82 Q2275.03 1521.07 2273.08 1519.33 Q2271.16 1517.6 2268.06 1517.6 Q2265.86 1517.6 2263.41 1518.36 Q2260.98 1519.13 2258.2 1520.68 L2258.2 1515.95 Q2261.02 1514.82 2263.48 1514.24 Q2265.93 1513.66 2267.97 1513.66 Q2273.34 1513.66 2276.53 1516.35 Q2279.73 1519.03 2279.73 1523.52 Q2279.73 1525.65 2278.92 1527.57 Q2278.13 1529.47 2276.02 1532.07 Q2275.45 1532.74 2272.34 1535.95 Q2269.24 1539.15 2263.59 1544.91 Z\" fill=\"#000000\" fill-rule=\"evenodd\" fill-opacity=\"1\" /><path clip-path=\"url(#clip370)\" d=\"M2289.73 1542.97 L2294.61 1542.97 L2294.61 1548.85 L2289.73 1548.85 L2289.73 1542.97 Z\" fill=\"#000000\" fill-rule=\"evenodd\" fill-opacity=\"1\" /><path clip-path=\"url(#clip370)\" d=\"M2304.84 1514.29 L2323.2 1514.29 L2323.2 1518.22 L2309.13 1518.22 L2309.13 1526.7 Q2310.14 1526.35 2311.16 1526.19 Q2312.18 1526 2313.2 1526 Q2318.99 1526 2322.37 1529.17 Q2325.75 1532.34 2325.75 1537.76 Q2325.75 1543.34 2322.27 1546.44 Q2318.8 1549.52 2312.48 1549.52 Q2310.31 1549.52 2308.04 1549.15 Q2305.79 1548.78 2303.39 1548.04 L2303.39 1543.34 Q2305.47 1544.47 2307.69 1545.03 Q2309.91 1545.58 2312.39 1545.58 Q2316.39 1545.58 2318.73 1543.48 Q2321.07 1541.37 2321.07 1537.76 Q2321.07 1534.15 2318.73 1532.04 Q2316.39 1529.94 2312.39 1529.94 Q2310.52 1529.94 2308.64 1530.35 Q2306.79 1530.77 2304.84 1531.65 L2304.84 1514.29 Z\" fill=\"#000000\" fill-rule=\"evenodd\" fill-opacity=\"1\" /><polyline clip-path=\"url(#clip372)\" style=\"stroke:#000000; stroke-linecap:round; stroke-linejoin:round; stroke-width:2; stroke-opacity:0.1; fill:none\" points=\"201.019,1445.9 2352.76,1445.9 \"/>\n",
       "<polyline clip-path=\"url(#clip372)\" style=\"stroke:#000000; stroke-linecap:round; stroke-linejoin:round; stroke-width:2; stroke-opacity:0.1; fill:none\" points=\"201.019,1102.28 2352.76,1102.28 \"/>\n",
       "<polyline clip-path=\"url(#clip372)\" style=\"stroke:#000000; stroke-linecap:round; stroke-linejoin:round; stroke-width:2; stroke-opacity:0.1; fill:none\" points=\"201.019,758.663 2352.76,758.663 \"/>\n",
       "<polyline clip-path=\"url(#clip372)\" style=\"stroke:#000000; stroke-linecap:round; stroke-linejoin:round; stroke-width:2; stroke-opacity:0.1; fill:none\" points=\"201.019,415.044 2352.76,415.044 \"/>\n",
       "<polyline clip-path=\"url(#clip372)\" style=\"stroke:#000000; stroke-linecap:round; stroke-linejoin:round; stroke-width:2; stroke-opacity:0.1; fill:none\" points=\"201.019,71.4247 2352.76,71.4247 \"/>\n",
       "<polyline clip-path=\"url(#clip370)\" style=\"stroke:#000000; stroke-linecap:round; stroke-linejoin:round; stroke-width:4; stroke-opacity:1; fill:none\" points=\"201.019,1486.45 201.019,47.2441 \"/>\n",
       "<polyline clip-path=\"url(#clip370)\" style=\"stroke:#000000; stroke-linecap:round; stroke-linejoin:round; stroke-width:4; stroke-opacity:1; fill:none\" points=\"201.019,1445.9 219.917,1445.9 \"/>\n",
       "<polyline clip-path=\"url(#clip370)\" style=\"stroke:#000000; stroke-linecap:round; stroke-linejoin:round; stroke-width:4; stroke-opacity:1; fill:none\" points=\"201.019,1102.28 219.917,1102.28 \"/>\n",
       "<polyline clip-path=\"url(#clip370)\" style=\"stroke:#000000; stroke-linecap:round; stroke-linejoin:round; stroke-width:4; stroke-opacity:1; fill:none\" points=\"201.019,758.663 219.917,758.663 \"/>\n",
       "<polyline clip-path=\"url(#clip370)\" style=\"stroke:#000000; stroke-linecap:round; stroke-linejoin:round; stroke-width:4; stroke-opacity:1; fill:none\" points=\"201.019,415.044 219.917,415.044 \"/>\n",
       "<polyline clip-path=\"url(#clip370)\" style=\"stroke:#000000; stroke-linecap:round; stroke-linejoin:round; stroke-width:4; stroke-opacity:1; fill:none\" points=\"201.019,71.4247 219.917,71.4247 \"/>\n",
       "<path clip-path=\"url(#clip370)\" d=\"M153.075 1431.7 Q149.464 1431.7 147.635 1435.26 Q145.83 1438.81 145.83 1445.94 Q145.83 1453.04 147.635 1456.61 Q149.464 1460.15 153.075 1460.15 Q156.709 1460.15 158.515 1456.61 Q160.343 1453.04 160.343 1445.94 Q160.343 1438.81 158.515 1435.26 Q156.709 1431.7 153.075 1431.7 M153.075 1428 Q158.885 1428 161.941 1432.6 Q165.019 1437.19 165.019 1445.94 Q165.019 1454.66 161.941 1459.27 Q158.885 1463.85 153.075 1463.85 Q147.265 1463.85 144.186 1459.27 Q141.131 1454.66 141.131 1445.94 Q141.131 1437.19 144.186 1432.6 Q147.265 1428 153.075 1428 Z\" fill=\"#000000\" fill-rule=\"evenodd\" fill-opacity=\"1\" /><path clip-path=\"url(#clip370)\" d=\"M82.7975 1085 L101.154 1085 L101.154 1088.94 L87.0799 1088.94 L87.0799 1097.41 Q88.0984 1097.06 89.1169 1096.9 Q90.1354 1096.71 91.1539 1096.71 Q96.941 1096.71 100.321 1099.89 Q103.7 1103.06 103.7 1108.47 Q103.7 1114.05 100.228 1117.15 Q96.7558 1120.23 90.4364 1120.23 Q88.2604 1120.23 85.9919 1119.86 Q83.7466 1119.49 81.3392 1118.75 L81.3392 1114.05 Q83.4225 1115.19 85.6447 1115.74 Q87.8669 1116.3 90.3438 1116.3 Q94.3484 1116.3 96.6863 1114.19 Q99.0243 1112.09 99.0243 1108.47 Q99.0243 1104.86 96.6863 1102.76 Q94.3484 1100.65 90.3438 1100.65 Q88.4688 1100.65 86.5938 1101.07 Q84.7419 1101.48 82.7975 1102.36 L82.7975 1085 Z\" fill=\"#000000\" fill-rule=\"evenodd\" fill-opacity=\"1\" /><path clip-path=\"url(#clip370)\" d=\"M122.913 1088.08 Q119.302 1088.08 117.473 1091.65 Q115.668 1095.19 115.668 1102.32 Q115.668 1109.42 117.473 1112.99 Q119.302 1116.53 122.913 1116.53 Q126.547 1116.53 128.353 1112.99 Q130.182 1109.42 130.182 1102.32 Q130.182 1095.19 128.353 1091.65 Q126.547 1088.08 122.913 1088.08 M122.913 1084.38 Q128.723 1084.38 131.779 1088.98 Q134.857 1093.57 134.857 1102.32 Q134.857 1111.04 131.779 1115.65 Q128.723 1120.23 122.913 1120.23 Q117.103 1120.23 114.024 1115.65 Q110.969 1111.04 110.969 1102.32 Q110.969 1093.57 114.024 1088.98 Q117.103 1084.38 122.913 1084.38 Z\" fill=\"#000000\" fill-rule=\"evenodd\" fill-opacity=\"1\" /><path clip-path=\"url(#clip370)\" d=\"M153.075 1088.08 Q149.464 1088.08 147.635 1091.65 Q145.83 1095.19 145.83 1102.32 Q145.83 1109.42 147.635 1112.99 Q149.464 1116.53 153.075 1116.53 Q156.709 1116.53 158.515 1112.99 Q160.343 1109.42 160.343 1102.32 Q160.343 1095.19 158.515 1091.65 Q156.709 1088.08 153.075 1088.08 M153.075 1084.38 Q158.885 1084.38 161.941 1088.98 Q165.019 1093.57 165.019 1102.32 Q165.019 1111.04 161.941 1115.65 Q158.885 1120.23 153.075 1120.23 Q147.265 1120.23 144.186 1115.65 Q141.131 1111.04 141.131 1102.32 Q141.131 1093.57 144.186 1088.98 Q147.265 1084.38 153.075 1084.38 Z\" fill=\"#000000\" fill-rule=\"evenodd\" fill-opacity=\"1\" /><path clip-path=\"url(#clip370)\" d=\"M53.3995 772.008 L61.0384 772.008 L61.0384 745.642 L52.7282 747.309 L52.7282 743.05 L60.9921 741.383 L65.668 741.383 L65.668 772.008 L73.3068 772.008 L73.3068 775.943 L53.3995 775.943 L53.3995 772.008 Z\" fill=\"#000000\" fill-rule=\"evenodd\" fill-opacity=\"1\" /><path clip-path=\"url(#clip370)\" d=\"M92.7512 744.462 Q89.1401 744.462 87.3114 748.026 Q85.5058 751.568 85.5058 758.698 Q85.5058 765.804 87.3114 769.369 Q89.1401 772.91 92.7512 772.91 Q96.3854 772.91 98.1909 769.369 Q100.02 765.804 100.02 758.698 Q100.02 751.568 98.1909 748.026 Q96.3854 744.462 92.7512 744.462 M92.7512 740.758 Q98.5613 740.758 101.617 745.364 Q104.696 749.948 104.696 758.698 Q104.696 767.424 101.617 772.031 Q98.5613 776.614 92.7512 776.614 Q86.941 776.614 83.8623 772.031 Q80.8068 767.424 80.8068 758.698 Q80.8068 749.948 83.8623 745.364 Q86.941 740.758 92.7512 740.758 Z\" fill=\"#000000\" fill-rule=\"evenodd\" fill-opacity=\"1\" /><path clip-path=\"url(#clip370)\" d=\"M122.913 744.462 Q119.302 744.462 117.473 748.026 Q115.668 751.568 115.668 758.698 Q115.668 765.804 117.473 769.369 Q119.302 772.91 122.913 772.91 Q126.547 772.91 128.353 769.369 Q130.182 765.804 130.182 758.698 Q130.182 751.568 128.353 748.026 Q126.547 744.462 122.913 744.462 M122.913 740.758 Q128.723 740.758 131.779 745.364 Q134.857 749.948 134.857 758.698 Q134.857 767.424 131.779 772.031 Q128.723 776.614 122.913 776.614 Q117.103 776.614 114.024 772.031 Q110.969 767.424 110.969 758.698 Q110.969 749.948 114.024 745.364 Q117.103 740.758 122.913 740.758 Z\" fill=\"#000000\" fill-rule=\"evenodd\" fill-opacity=\"1\" /><path clip-path=\"url(#clip370)\" d=\"M153.075 744.462 Q149.464 744.462 147.635 748.026 Q145.83 751.568 145.83 758.698 Q145.83 765.804 147.635 769.369 Q149.464 772.91 153.075 772.91 Q156.709 772.91 158.515 769.369 Q160.343 765.804 160.343 758.698 Q160.343 751.568 158.515 748.026 Q156.709 744.462 153.075 744.462 M153.075 740.758 Q158.885 740.758 161.941 745.364 Q165.019 749.948 165.019 758.698 Q165.019 767.424 161.941 772.031 Q158.885 776.614 153.075 776.614 Q147.265 776.614 144.186 772.031 Q141.131 767.424 141.131 758.698 Q141.131 749.948 144.186 745.364 Q147.265 740.758 153.075 740.758 Z\" fill=\"#000000\" fill-rule=\"evenodd\" fill-opacity=\"1\" /><path clip-path=\"url(#clip370)\" d=\"M53.3995 428.389 L61.0384 428.389 L61.0384 402.023 L52.7282 403.69 L52.7282 399.43 L60.9921 397.764 L65.668 397.764 L65.668 428.389 L73.3068 428.389 L73.3068 432.324 L53.3995 432.324 L53.3995 428.389 Z\" fill=\"#000000\" fill-rule=\"evenodd\" fill-opacity=\"1\" /><path clip-path=\"url(#clip370)\" d=\"M82.7975 397.764 L101.154 397.764 L101.154 401.699 L87.0799 401.699 L87.0799 410.171 Q88.0984 409.824 89.1169 409.662 Q90.1354 409.477 91.1539 409.477 Q96.941 409.477 100.321 412.648 Q103.7 415.819 103.7 421.236 Q103.7 426.815 100.228 429.916 Q96.7558 432.995 90.4364 432.995 Q88.2604 432.995 85.9919 432.625 Q83.7466 432.254 81.3392 431.514 L81.3392 426.815 Q83.4225 427.949 85.6447 428.504 Q87.8669 429.06 90.3438 429.06 Q94.3484 429.06 96.6863 426.953 Q99.0243 424.847 99.0243 421.236 Q99.0243 417.625 96.6863 415.518 Q94.3484 413.412 90.3438 413.412 Q88.4688 413.412 86.5938 413.829 Q84.7419 414.245 82.7975 415.125 L82.7975 397.764 Z\" fill=\"#000000\" fill-rule=\"evenodd\" fill-opacity=\"1\" /><path clip-path=\"url(#clip370)\" d=\"M122.913 400.842 Q119.302 400.842 117.473 404.407 Q115.668 407.949 115.668 415.079 Q115.668 422.185 117.473 425.75 Q119.302 429.291 122.913 429.291 Q126.547 429.291 128.353 425.75 Q130.182 422.185 130.182 415.079 Q130.182 407.949 128.353 404.407 Q126.547 400.842 122.913 400.842 M122.913 397.139 Q128.723 397.139 131.779 401.745 Q134.857 406.329 134.857 415.079 Q134.857 423.805 131.779 428.412 Q128.723 432.995 122.913 432.995 Q117.103 432.995 114.024 428.412 Q110.969 423.805 110.969 415.079 Q110.969 406.329 114.024 401.745 Q117.103 397.139 122.913 397.139 Z\" fill=\"#000000\" fill-rule=\"evenodd\" fill-opacity=\"1\" /><path clip-path=\"url(#clip370)\" d=\"M153.075 400.842 Q149.464 400.842 147.635 404.407 Q145.83 407.949 145.83 415.079 Q145.83 422.185 147.635 425.75 Q149.464 429.291 153.075 429.291 Q156.709 429.291 158.515 425.75 Q160.343 422.185 160.343 415.079 Q160.343 407.949 158.515 404.407 Q156.709 400.842 153.075 400.842 M153.075 397.139 Q158.885 397.139 161.941 401.745 Q165.019 406.329 165.019 415.079 Q165.019 423.805 161.941 428.412 Q158.885 432.995 153.075 432.995 Q147.265 432.995 144.186 428.412 Q141.131 423.805 141.131 415.079 Q141.131 406.329 144.186 401.745 Q147.265 397.139 153.075 397.139 Z\" fill=\"#000000\" fill-rule=\"evenodd\" fill-opacity=\"1\" /><path clip-path=\"url(#clip370)\" d=\"M56.6171 84.7696 L72.9365 84.7696 L72.9365 88.7047 L50.9921 88.7047 L50.9921 84.7696 Q53.6541 82.015 58.2375 77.3853 Q62.8439 72.7326 64.0245 71.39 Q66.2698 68.8669 67.1494 67.1308 Q68.0522 65.3715 68.0522 63.6817 Q68.0522 60.9271 66.1078 59.191 Q64.1865 57.4549 61.0847 57.4549 Q58.8856 57.4549 56.4319 58.2188 Q54.0014 58.9827 51.2236 60.5336 L51.2236 55.8114 Q54.0477 54.6771 56.5014 54.0984 Q58.955 53.5197 60.9921 53.5197 Q66.3624 53.5197 69.5568 56.2049 Q72.7513 58.8901 72.7513 63.3808 Q72.7513 65.5104 71.9411 67.4317 Q71.1541 69.3298 69.0476 71.9224 Q68.4689 72.5937 65.367 75.8113 Q62.2652 79.0057 56.6171 84.7696 Z\" fill=\"#000000\" fill-rule=\"evenodd\" fill-opacity=\"1\" /><path clip-path=\"url(#clip370)\" d=\"M92.7512 57.2234 Q89.1401 57.2234 87.3114 60.7882 Q85.5058 64.3299 85.5058 71.4595 Q85.5058 78.5659 87.3114 82.1307 Q89.1401 85.6723 92.7512 85.6723 Q96.3854 85.6723 98.1909 82.1307 Q100.02 78.5659 100.02 71.4595 Q100.02 64.3299 98.1909 60.7882 Q96.3854 57.2234 92.7512 57.2234 M92.7512 53.5197 Q98.5613 53.5197 101.617 58.1262 Q104.696 62.7095 104.696 71.4595 Q104.696 80.1863 101.617 84.7927 Q98.5613 89.376 92.7512 89.376 Q86.941 89.376 83.8623 84.7927 Q80.8068 80.1863 80.8068 71.4595 Q80.8068 62.7095 83.8623 58.1262 Q86.941 53.5197 92.7512 53.5197 Z\" fill=\"#000000\" fill-rule=\"evenodd\" fill-opacity=\"1\" /><path clip-path=\"url(#clip370)\" d=\"M122.913 57.2234 Q119.302 57.2234 117.473 60.7882 Q115.668 64.3299 115.668 71.4595 Q115.668 78.5659 117.473 82.1307 Q119.302 85.6723 122.913 85.6723 Q126.547 85.6723 128.353 82.1307 Q130.182 78.5659 130.182 71.4595 Q130.182 64.3299 128.353 60.7882 Q126.547 57.2234 122.913 57.2234 M122.913 53.5197 Q128.723 53.5197 131.779 58.1262 Q134.857 62.7095 134.857 71.4595 Q134.857 80.1863 131.779 84.7927 Q128.723 89.376 122.913 89.376 Q117.103 89.376 114.024 84.7927 Q110.969 80.1863 110.969 71.4595 Q110.969 62.7095 114.024 58.1262 Q117.103 53.5197 122.913 53.5197 Z\" fill=\"#000000\" fill-rule=\"evenodd\" fill-opacity=\"1\" /><path clip-path=\"url(#clip370)\" d=\"M153.075 57.2234 Q149.464 57.2234 147.635 60.7882 Q145.83 64.3299 145.83 71.4595 Q145.83 78.5659 147.635 82.1307 Q149.464 85.6723 153.075 85.6723 Q156.709 85.6723 158.515 82.1307 Q160.343 78.5659 160.343 71.4595 Q160.343 64.3299 158.515 60.7882 Q156.709 57.2234 153.075 57.2234 M153.075 53.5197 Q158.885 53.5197 161.941 58.1262 Q165.019 62.7095 165.019 71.4595 Q165.019 80.1863 161.941 84.7927 Q158.885 89.376 153.075 89.376 Q147.265 89.376 144.186 84.7927 Q141.131 80.1863 141.131 71.4595 Q141.131 62.7095 144.186 58.1262 Q147.265 53.5197 153.075 53.5197 Z\" fill=\"#000000\" fill-rule=\"evenodd\" fill-opacity=\"1\" /><polyline clip-path=\"url(#clip372)\" style=\"stroke:#009af9; stroke-linecap:round; stroke-linejoin:round; stroke-width:4; stroke-opacity:1; fill:none\" points=\"261.917,87.9763 282.422,88.9837 302.926,90.0782 323.431,91.2675 343.935,92.5602 364.44,93.9659 384.944,95.4949 405.449,97.1589 425.953,98.9709 446.458,100.945 466.962,103.097 487.466,105.445 507.971,108.008 528.475,110.808 548.98,113.868 569.484,117.215 589.989,120.878 610.493,124.89 630.998,129.287 651.502,134.108 672.006,139.397 692.511,145.202 713.015,151.577 733.52,158.578 754.024,166.271 774.529,174.724 795.033,184.013 815.538,194.219 836.042,205.43 856.546,217.738 877.051,231.243 897.555,246.049 918.06,262.263 938.564,279.993 959.069,299.351 979.573,320.443 1000.08,343.37 1020.58,368.223 1041.09,395.081 1061.59,424.001 1082.1,455.014 1102.6,488.121 1123.1,523.286 1143.61,560.429 1164.11,599.424 1184.62,640.095 1205.12,682.213 1225.63,725.502 1246.13,769.642 1266.64,814.275 1287.14,859.018 1307.64,903.474 1328.15,947.245 1348.65,989.949 1369.16,1031.23 1389.66,1070.78 1410.17,1108.33 1430.67,1143.67 1451.18,1176.65 1471.68,1207.18 1492.18,1235.22 1512.69,1260.79 1533.19,1283.94 1553.7,1304.76 1574.2,1323.37 1594.71,1339.91 1615.21,1354.53 1635.72,1367.39 1656.22,1378.65 1676.72,1388.46 1697.23,1396.98 1717.73,1404.35 1738.24,1410.69 1758.74,1416.15 1779.25,1420.81 1799.75,1424.79 1820.26,1428.18 1840.76,1431.06 1861.26,1433.5 1881.77,1435.56 1902.27,1437.29 1922.78,1438.75 1943.28,1439.97 1963.79,1440.99 1984.29,1441.85 2004.8,1442.56 2025.3,1443.15 2045.8,1443.64 2066.31,1444.05 2086.81,1444.38 2107.32,1444.66 2127.82,1444.89 2148.33,1445.08 2168.83,1445.23 2189.34,1445.36 2209.84,1445.46 2230.34,1445.55 2250.85,1445.61 2271.35,1445.67 2291.86,1445.72 \"/>\n",
       "<path clip-path=\"url(#clip370)\" d=\"M2013.43 198.898 L2281.03 198.898 L2281.03 95.2176 L2013.43 95.2176  Z\" fill=\"#ffffff\" fill-rule=\"evenodd\" fill-opacity=\"1\"/>\n",
       "<polyline clip-path=\"url(#clip370)\" style=\"stroke:#000000; stroke-linecap:round; stroke-linejoin:round; stroke-width:4; stroke-opacity:1; fill:none\" points=\"2013.43,198.898 2281.03,198.898 2281.03,95.2176 2013.43,95.2176 2013.43,198.898 \"/>\n",
       "<polyline clip-path=\"url(#clip370)\" style=\"stroke:#009af9; stroke-linecap:round; stroke-linejoin:round; stroke-width:4; stroke-opacity:1; fill:none\" points=\"2037.34,147.058 2180.78,147.058 \"/>\n",
       "<path clip-path=\"url(#clip370)\" d=\"M2218.54 166.745 Q2216.73 171.375 2215.02 172.787 Q2213.3 174.199 2210.43 174.199 L2207.03 174.199 L2207.03 170.634 L2209.53 170.634 Q2211.29 170.634 2212.26 169.8 Q2213.23 168.967 2214.42 165.865 L2215.18 163.921 L2204.69 138.412 L2209.21 138.412 L2217.31 158.689 L2225.41 138.412 L2229.92 138.412 L2218.54 166.745 Z\" fill=\"#000000\" fill-rule=\"evenodd\" fill-opacity=\"1\" /><path clip-path=\"url(#clip370)\" d=\"M2237.22 160.402 L2244.85 160.402 L2244.85 134.037 L2236.54 135.703 L2236.54 131.444 L2244.81 129.778 L2249.48 129.778 L2249.48 160.402 L2257.12 160.402 L2257.12 164.338 L2237.22 164.338 L2237.22 160.402 Z\" fill=\"#000000\" fill-rule=\"evenodd\" fill-opacity=\"1\" /></svg>\n"
      ]
     },
     "execution_count": 3,
     "metadata": {},
     "output_type": "execute_result"
    }
   ],
   "source": [
    "# Plot of mu vs B\n",
    "using Plots\n",
    "\n",
    "B = collect(range(0.5, 2.5, 100))\n",
    "plot(B,mu_func.(B)/mu0)"
   ]
  }
 ],
 "metadata": {
  "kernelspec": {
   "display_name": "Julia 1.8.5",
   "language": "julia",
   "name": "julia-1.8"
  },
  "language_info": {
   "file_extension": ".jl",
   "mimetype": "application/julia",
   "name": "julia",
   "version": "1.8.5"
  }
 },
 "nbformat": 4,
 "nbformat_minor": 5
}
