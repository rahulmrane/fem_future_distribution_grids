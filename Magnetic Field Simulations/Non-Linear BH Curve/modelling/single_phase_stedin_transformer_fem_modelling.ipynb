{
 "cells": [
  {
   "cell_type": "markdown",
   "id": "af70a261",
   "metadata": {},
   "source": [
    "# FEM Modelling for STEDIN Transformer"
   ]
  },
  {
   "cell_type": "markdown",
   "id": "4db1895b-7cc7-458d-a7d4-6c8c59d34f30",
   "metadata": {},
   "source": [
    "The nonlinear magnetic characteristic with hysteresis neglected can be approximated as given in [1].\n",
    "\\begin{equation}\n",
    "    \\frac{1}{\\mu} = k_1 e^{k_2B^2} + k_3\n",
    "\\end{equation}\n",
    "where, $k_1$, $k_2$ and $k_3$ are constants equal to 3.8, 2.17, and 396.2, respectively.\n",
    "\n",
    "[1] J. Brauer, “Simple equations for the magnetization and reluctivity curves of steel,” IEEE Transactions on Magnetics, vol. 11, no. 1, pp. 81–81, 1975."
   ]
  },
  {
   "cell_type": "markdown",
   "id": "5063ccfe",
   "metadata": {},
   "source": [
    "## Import Packages"
   ]
  },
  {
   "cell_type": "code",
   "execution_count": 1,
   "id": "012e9206",
   "metadata": {},
   "outputs": [],
   "source": [
    "using gmsh\n",
    "using LinearAlgebra\n",
    "using LaTeXStrings\n",
    "include(\"../../../lib/Makie_Plots.jl\");\n",
    "using .Makie_Plots\n",
    "include(\"../../../lib/FEM_Tri_1e.jl\");\n",
    "using .FEM_Tri_1e\n",
    "include(\"../../../lib/Mesh_Data_stedin.jl\");\n",
    "using .Mesh_Data_stedin\n",
    "include(\"../../../lib/Save_VTK.jl\");\n",
    "using .Save_VTK"
   ]
  },
  {
   "cell_type": "markdown",
   "id": "a9284d46",
   "metadata": {},
   "source": [
    "## Julia code"
   ]
  },
  {
   "cell_type": "code",
   "execution_count": 2,
   "id": "a2d869f5",
   "metadata": {},
   "outputs": [
    {
     "name": "stdout",
     "output_type": "stream",
     "text": [
      "Info    : Reading '../mesh/stedin_transformer.msh'...\n",
      "Info    : 168 entities\n",
      "Info    : 10385 nodes\n",
      "Info    : 20768 elements\n",
      "Info    : Done reading '../mesh/stedin_transformer.msh'\n"
     ]
    },
    {
     "ename": "LoadError",
     "evalue": "SingularException(0)",
     "output_type": "error",
     "traceback": [
      "SingularException(0)",
      "",
      "Stacktrace:",
      " [1] lu(S::SparseArrays.SparseMatrixCSC{ComplexF64, Int64}; check::Bool)",
      "   @ SuiteSparse.UMFPACK C:\\Users\\rahul\\AppData\\Local\\Programs\\Julia-1.8.5\\share\\julia\\stdlib\\v1.8\\SuiteSparse\\src\\umfpack.jl:203",
      " [2] lu",
      "   @ C:\\Users\\rahul\\AppData\\Local\\Programs\\Julia-1.8.5\\share\\julia\\stdlib\\v1.8\\SuiteSparse\\src\\umfpack.jl:195 [inlined]",
      " [3] \\(A::SparseArrays.SparseMatrixCSC{ComplexF64, Int64}, B::Matrix{ComplexF64})",
      "   @ SparseArrays C:\\Users\\rahul\\AppData\\Local\\Programs\\Julia-1.8.5\\share\\julia\\stdlib\\v1.8\\SparseArrays\\src\\linalg.jl:1580",
      " [4] fem(mesh_data::Main.Mesh_Data_stedin.mesh_data, sourceperelement::Matrix{Float64}, reluctivityperelement::Matrix{Float64}, conductivityperelement::Matrix{Int64}, omega::Float64, bnd_node_ids::Vector{UInt64})",
      "   @ Main.FEM_Tri_1e C:\\Users\\rahul\\Documents\\TU Delft\\FEM TA\\Git Version\\fem_future_distribution_grids\\lib\\FEM_Tri_1e.jl:61",
      " [5] top-level scope",
      "   @ .\\In[2]:70"
     ]
    }
   ],
   "source": [
    "function mu_func(B)\n",
    "    k1 = 3.8;\n",
    "    k2 = 2.17;\n",
    "    k3 = 396.2;\n",
    "    v = k1 * exp(k2*B^2) + k3;\n",
    "    return (1 ./ v)\n",
    "end\n",
    "\n",
    "gmsh.initialize()\n",
    "\n",
    "## Read mesh from file\n",
    "gmsh.open(\"../mesh/stedin_transformer.msh\")\n",
    "\n",
    "mesh_data = get_mesh_data_tri_1e(gmsh)\n",
    "\n",
    "Ip = 0;       # Primary peak phase current\n",
    "Is = 777.62;  # Secondary peak phase current\n",
    "Np = 266;\n",
    "Ns = 6;\n",
    "\n",
    "omega = 2*pi*50;  # Frequency\n",
    "\n",
    "# HV winding dimensions (all phases left/right are identical)\n",
    "wwhv = 3e-2;\n",
    "hwhv = 74e-2;\n",
    "mwhv = 14.75e-2;\n",
    "Awhv = wwhv * hwhv;\n",
    "\n",
    "# LV winding dimensions (all phases left/right are identical)\n",
    "wwlv = 2e-2;\n",
    "hwlv = 74e-2;\n",
    "mwlv = 11.25e-2;\n",
    "Awlv = wwlv * hwlv;\n",
    "\n",
    "# Calculate current density in the windings\n",
    "Jp = Np * Ip / Awhv;\n",
    "Js = Ns * Is / Awlv;\n",
    "\n",
    "# Source current density J\n",
    "# One term for each of the windings, with a positive and negative part\n",
    "# Note the phase shift between the phases\n",
    "sourcefunction(group_id) = Jp * (-1 * (group_id==5) + 1 * (group_id==6)) + \n",
    "                           Js * (1 * (group_id==11) - 1 * (group_id==12));\n",
    "sourceperelement = map(sourcefunction, mesh_data.e_group);\n",
    "\n",
    "# Relative permeability model\n",
    "mu0 = 4e-7 * pi;\n",
    "mur = 1000;       # Relative permeability of the core\n",
    "reluctivityfunction(group_id) = (1 / mu0) + (1/(mu0*mur) - 1/mu0) * (group_id == 2)\n",
    "reluctivityperelement = map(reluctivityfunction, mesh_data.e_group);\n",
    "\n",
    "# Conductivity\n",
    "conductivityfunction(group_id) = 0;\n",
    "conductivityperelement = map(conductivityfunction, mesh_data.e_group);\n",
    "\n",
    "# Handle the boundary conditions\n",
    "bnd_node_ids, _ = gmsh.model.mesh.getNodesForPhysicalGroup(1, 1);\n",
    "\n",
    "mur_pts = findall(x->x==2, mesh_data.e_group)\n",
    "L = LinearIndices(mesh_data.e_group)\n",
    "mur_pts = L[mur_pts]\n",
    "    \n",
    "## Threshold value for the error\n",
    "threshold = 1e-6 .* ones(length(mur_pts))\n",
    "\n",
    "Bx, By, B, Hx, Hy, H, mag_energy, Jel = (0, 0, 0, 0, 0, 0, 0, 0);\n",
    "\n",
    "for loop = 1:10000\n",
    "    # Calculate the vector potential\n",
    "    u = fem(mesh_data, sourceperelement, reluctivityperelement, conductivityperelement, omega, bnd_node_ids);\n",
    "\n",
    "    # Post-process for magnetic field and current density\n",
    "    Bx, By, B, Hx, Hy, H, mag_energy = post_process(mesh_data, u, reluctivityperelement);\n",
    "\n",
    "    ## Check the error with the threshold values\n",
    "    if abs.((1 ./ mu_func.(abs.(B[mur_pts]))) - reluctivityperelement[mur_pts]) <= threshold\n",
    "        break;\n",
    "    end\n",
    "\n",
    "    ## Assign new value of mur\n",
    "    reluctivityperelement[mur_pts] = 1 ./ mu_func.(abs.(B[mur_pts]));\n",
    "end\n",
    "\n",
    "# Contour plot of the magnetic flux density\n",
    "plot_surface_tri_1e(norm.(B), \"single_phase_stedin_transformer_B_plot_nonlinear\", gmsh)\n",
    "# Contour plot of the magnetic field strength\n",
    "plot_surface_tri_1e(norm.(H), \"single_phase_stedin_transformer_H_plot_nonlinear\", gmsh)\n",
    "# Contour plot of the magnetic energy\n",
    "plot_surface_tri_1e(norm.(mag_energy), \"single_phase_stedin_transformer_mag_energy_plot_nonlinear\", gmsh)\n",
    "\n",
    "# Save as VTK file for Paraview visualization\n",
    "save_vtk(mesh_data, norm.(u), norm.(B), norm.(H), norm.(mag_energy), reluctivityperelement, \"single_phase_stedin_transformer_nonlinear\")\n",
    "\n",
    "gmsh.finalize()"
   ]
  },
  {
   "cell_type": "markdown",
   "id": "4d56ad6b-bd80-4057-b51b-d0e225d81644",
   "metadata": {},
   "source": [
    "### STEDIN Transformer : Magnetic field density\n",
    "<img src=\"../img/single_phase_stedin_transformer_B_plot_nonlinear.png\">\n",
    "\n",
    "### STEDIN Transformer : Magnetic field strength\n",
    "<img src=\"../img/single_phase_stedin_transformer_H_plot_nonlinear.png\">\n",
    "\n",
    "### STEDIN Transformer : Magnetic energy\n",
    "<img src=\"../img/single_phase_stedin_transformer_mag_energy_plot_nonlinear.png\">"
   ]
  },
  {
   "cell_type": "code",
   "execution_count": null,
   "id": "b33769a8-2c8b-4a13-86f5-e7060ddef901",
   "metadata": {},
   "outputs": [],
   "source": [
    "# Plot of mu vs B\n",
    "using Plots\n",
    "\n",
    "B = collect(range(0.5, 2.5, 100))\n",
    "plot(B,mu_func.(B)/mu0)"
   ]
  }
 ],
 "metadata": {
  "kernelspec": {
   "display_name": "Julia 1.8.5",
   "language": "julia",
   "name": "julia-1.8"
  },
  "language_info": {
   "file_extension": ".jl",
   "mimetype": "application/julia",
   "name": "julia",
   "version": "1.8.5"
  }
 },
 "nbformat": 4,
 "nbformat_minor": 5
}
