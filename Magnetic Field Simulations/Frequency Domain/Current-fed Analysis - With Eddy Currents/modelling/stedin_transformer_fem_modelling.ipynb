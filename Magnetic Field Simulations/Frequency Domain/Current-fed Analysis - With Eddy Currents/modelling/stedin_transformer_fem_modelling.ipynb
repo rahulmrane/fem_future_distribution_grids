{
 "cells": [
  {
   "cell_type": "markdown",
   "id": "af70a261",
   "metadata": {},
   "source": [
    "# FEM Modelling for STEDIN Transformer"
   ]
  },
  {
   "cell_type": "markdown",
   "id": "4db1895b-7cc7-458d-a7d4-6c8c59d34f30",
   "metadata": {},
   "source": [
    "### Including Eddy Current Effects\n",
    "\n",
    "In this part, the conducitvity of the core material is modelled as $2.22 \\times 10^{6}$ (grain-oriented Fe-Si steel) [1].\n",
    "\n",
    "[1] Fiorillo, Fausto. Characterization and measurement of magnetic materials. Academic Press, 2004.\n",
    "\n",
    "Note : In actual scenario, the conductivity is not this high because of laminated core. Therefore, the conductivity can be modelled as $0.1$."
   ]
  },
  {
   "cell_type": "markdown",
   "id": "5063ccfe",
   "metadata": {},
   "source": [
    "## Import Packages"
   ]
  },
  {
   "cell_type": "code",
   "execution_count": 1,
   "id": "012e9206",
   "metadata": {},
   "outputs": [
    {
     "name": "stdout",
     "output_type": "stream",
     "text": [
      " ✓ Packages loaded (52.47 seconds)                               \n"
     ]
    }
   ],
   "source": [
    "print(\" ▸ Loading Packages .... \\r\")\n",
    "start = time_ns()\n",
    "using gmsh\n",
    "using LinearAlgebra\n",
    "using LaTeXStrings\n",
    "using Plots\n",
    "using CSV\n",
    "using DataFrames\n",
    "include(\"../../../../lib/Makie_Plots.jl\");\n",
    "using .Makie_Plots\n",
    "include(\"../../../../lib/FEM_Tri_1e.jl\");\n",
    "using .FEM_Tri_1e\n",
    "include(\"../../../../lib/Post_Process_Frequency.jl\");\n",
    "using .Post_Process_Frequency\n",
    "include(\"../../../../lib/Mesh_Data_stedin.jl\");\n",
    "using .Mesh_Data_stedin\n",
    "include(\"../../../../lib/Save_VTK.jl\");\n",
    "using .Save_VTK\n",
    "elapsed = round((time_ns() - start)/10^9, digits=2)\n",
    "println(\" ✓ Packages loaded (\"*string(elapsed)*\" seconds)                               \")"
   ]
  },
  {
   "cell_type": "markdown",
   "id": "a9284d46",
   "metadata": {},
   "source": [
    "## Julia code"
   ]
  },
  {
   "cell_type": "code",
   "execution_count": 2,
   "id": "a2d869f5",
   "metadata": {},
   "outputs": [
    {
     "name": "stdout",
     "output_type": "stream",
     "text": [
      "Info    : Reading '../../../../Geometry/mesh/stedin_transformer.msh'...\n",
      "Info    : 168 entities\n",
      "Info    : 10385 nodes\n",
      "Info    : 20768 elements\n",
      "Info    : Done reading '../../../../Geometry/mesh/stedin_transformer.msh'\n",
      " ✓ Mesh file loaded (0.14 seconds)                               \n",
      " ✓ Mesh data generated (8.78 seconds)                               \n",
      " ✓ Initial parameters set (0.5 seconds)                               \n",
      " ✓ Matrices constructed (2.63 seconds)                               \n",
      " ✓ Solution computed (0.87 seconds)                               \n",
      " ✓ Post processing variables computed (2.08 seconds)                               \n",
      " ✓ Plots saved (49.94 seconds)                               \n",
      " ✓ VTK file saved (4.52 seconds)                               \n"
     ]
    }
   ],
   "source": [
    "gmsh.initialize()\n",
    "\n",
    "## Read mesh from file\n",
    "print(\" ▸ Reading mesh file .... \\r\")\n",
    "start = time_ns()\n",
    "gmsh.open(\"../../../../Geometry/mesh/stedin_transformer.msh\")\n",
    "elapsed = round((time_ns() - start)/10^9, digits=2)\n",
    "println(\" ✓ Mesh file loaded (\"*string(elapsed)*\" seconds)                               \")\n",
    "\n",
    "print(\" ▸ Generating required mesh data .... \\r\")\n",
    "start = time_ns()\n",
    "mesh_data = get_mesh_data_tri_1e(gmsh)\n",
    "elapsed = round((time_ns() - start)/10^9, digits=2)\n",
    "println(\" ✓ Mesh data generated (\"*string(elapsed)*\" seconds)                               \")\n",
    "\n",
    "print(\" ▸ Setting initial parameters .... \\r\")\n",
    "start = time_ns()\n",
    "Ip = 0;       # Primary peak phase current\n",
    "Is = 777.62;  # Secondary peak phase current\n",
    "Np = 266;\n",
    "Ns = 6;\n",
    "\n",
    "omega = 2*pi*50;  # Frequency\n",
    "\n",
    "# HV winding dimensions (all phases left/right are identical)\n",
    "wwhv = 3e-2;\n",
    "hwhv = 74e-2;\n",
    "mwhv = 14.75e-2;\n",
    "Awhv = wwhv * hwhv;\n",
    "\n",
    "# LV winding dimensions (all phases left/right are identical)\n",
    "wwlv = 2e-2;\n",
    "hwlv = 74e-2;\n",
    "mwlv = 11.25e-2;\n",
    "Awlv = wwlv * hwlv;\n",
    "\n",
    "# Calculate current density in the windings\n",
    "Jp = Np * Ip / Awhv;\n",
    "Js = Ns * Is / Awlv;\n",
    "\n",
    "# Source current density J\n",
    "# One term for each of the windings, with a positive and negative part\n",
    "# Note the phase shift between the phases\n",
    "sourcefunction(group_id) = Jp * exp(-1im * 2pi/3) * (1 * (group_id==3) - 1 * (group_id==4)) + \n",
    "                           Jp * (1 * (group_id==5) - 1 * (group_id==6)) + \n",
    "                           Jp * exp(1im * 2pi/3) * (1 * (group_id==7) - 1 * (group_id==8)) + \n",
    "                           Js * exp(-1im * 2pi/3) * (1 * (group_id==9) - 1 * (group_id==10)) +\n",
    "                           Js * (1 * (group_id==11) - 1 * (group_id==12)) + \n",
    "                           Js * exp(1im * 2pi/3) * (1 * (group_id==13) - 1 * (group_id==14));\n",
    "sourceperelement = map(sourcefunction, mesh_data.e_group);\n",
    "\n",
    "# Relative permeability model\n",
    "mu0 = 4e-7 * pi;\n",
    "mur = 2500;       # Relative permeability of the core\n",
    "reluctivityfunction(group_id) = (1 / mu0) + (1/(mu0*mur) - 1/mu0) * (group_id == 2);\n",
    "reluctivityperelement = map(reluctivityfunction, mesh_data.e_group);\n",
    "\n",
    "# Conductivity\n",
    "conductivityfunction(group_id) = 1e-10 + (0.1 - 1e-10) * (group_id == 2);\n",
    "conductivityperelement = map(conductivityfunction, mesh_data.e_group);\n",
    "\n",
    "# Handle the boundary conditions\n",
    "bnd_node_ids, _ = gmsh.model.mesh.getNodesForPhysicalGroup(1, 1);\n",
    "\n",
    "elapsed = round((time_ns() - start)/10^9, digits=2)\n",
    "println(\" ✓ Initial parameters set (\"*string(elapsed)*\" seconds)                               \")\n",
    "\n",
    "# Calculate the vector potential\n",
    "u = fem(mesh_data, sourceperelement, reluctivityperelement, conductivityperelement, omega, bnd_node_ids);\n",
    "\n",
    "# Post-process for magnetic field and current density\n",
    "Bx, By, B, Hx, Hy, H, mag_energy = post_process(mesh_data, u, reluctivityperelement);\n",
    "\n",
    "print(\" ▸ Saving Plots .... \\r\")\n",
    "start = time_ns()\n",
    "# Contour plot of the magnetic flux density\n",
    "plot_surface_tri_1e(norm.(B), \"stedin_transformer_B_plot_with_eddy\", gmsh)\n",
    "# Contour plot of the magnetic field strength\n",
    "plot_surface_tri_1e(norm.(H), \"stedin_transformer_H_plot_with_eddy\", gmsh)\n",
    "# Contour plot of the magnetic energy\n",
    "plot_surface_tri_1e(norm.(mag_energy), \"stedin_transformer_mag_energy_plot_with_eddy\", gmsh)\n",
    "elapsed = round((time_ns() - start)/10^9, digits=2)\n",
    "println(\" ✓ Plots saved (\"*string(elapsed)*\" seconds)                               \")\n",
    "\n",
    "print(\" ▸ Saving VTK file .... \\r\")\n",
    "start = time_ns()\n",
    "# Save as VTK file for Paraview visualization\n",
    "save_vtk(mesh_data, norm.(u), norm.(B), norm.(H), norm.(mag_energy), reluctivityperelement, \"stedin_transformer_with_eddy\")\n",
    "elapsed = round((time_ns() - start)/10^9, digits=2)\n",
    "println(\" ✓ VTK file saved (\"*string(elapsed)*\" seconds)                               \")\n",
    "\n",
    "gmsh.finalize()"
   ]
  },
  {
   "cell_type": "markdown",
   "id": "4d56ad6b-bd80-4057-b51b-d0e225d81644",
   "metadata": {},
   "source": [
    "### STEDIN Transformer : Magnetic field density\n",
    "<img src=\"../img/stedin_transformer_B_plot_with_eddy.png\">\n",
    "\n",
    "### STEDIN Transformer : Magnetic field strength\n",
    "<img src=\"../img/stedin_transformer_H_plot_with_eddy.png\">\n",
    "\n",
    "### STEDIN Transformer : Magnetic energy\n",
    "<img src=\"../img/stedin_transformer_mag_energy_plot_with_eddy.png\">"
   ]
  },
  {
   "cell_type": "code",
   "execution_count": 3,
   "id": "bdd61bc7-b34d-4488-9bd5-43b0e8c276f3",
   "metadata": {
    "scrolled": true
   },
   "outputs": [
    {
     "data": {
      "text/plain": [
       "31.46668827377668"
      ]
     },
     "metadata": {},
     "output_type": "display_data"
    }
   ],
   "source": [
    "display(maximum(norm.(B)))"
   ]
  },
  {
   "cell_type": "code",
   "execution_count": 4,
   "id": "91605ef2",
   "metadata": {},
   "outputs": [
    {
     "data": {
      "text/plain": [
       "13.943895348550836"
      ]
     },
     "metadata": {},
     "output_type": "display_data"
    }
   ],
   "source": [
    "display(norm.(B[7051]))"
   ]
  },
  {
   "cell_type": "code",
   "execution_count": null,
   "id": "54e3c366",
   "metadata": {},
   "outputs": [],
   "source": []
  }
 ],
 "metadata": {
  "kernelspec": {
   "display_name": "Julia 1.8.5",
   "language": "julia",
   "name": "julia-1.8"
  },
  "language_info": {
   "file_extension": ".jl",
   "mimetype": "application/julia",
   "name": "julia",
   "version": "1.8.5"
  }
 },
 "nbformat": 4,
 "nbformat_minor": 5
}
