{
 "cells": [
  {
   "cell_type": "markdown",
   "id": "af70a261",
   "metadata": {},
   "source": [
    "# FEM Modelling for Single-Phase STEDIN Transformer"
   ]
  },
  {
   "cell_type": "markdown",
   "id": "4db1895b-7cc7-458d-a7d4-6c8c59d34f30",
   "metadata": {},
   "source": [
    "### Voltage-fed Couple Circuit Analysis\n",
    "\n",
    "In frequency domain,\n",
    "\\begin{equation}\n",
    "    -\\nabla\\cdot\\Big[\\frac{1}{\\mu}\\nabla u_z \\Big] + j\\omega\\sigma u_z = J_0 = \\frac{NI}{S}\n",
    "\\end{equation}\n",
    "where,\n",
    "\n",
    "$N$ = number of turns,\n",
    "\n",
    "$S$ = cross-sectional area.\n",
    "\n",
    "Circuit equation for an R-L equivalent network,\n",
    "\\begin{align}\n",
    "    V & = j\\omega N \\psi + R_{ext}I + j\\omega L_{ext} I \\\\\n",
    "    V & = j\\omega G'u + R_{ext}I + j\\omega L_{ext} I\n",
    "\\end{align}\n",
    "\n",
    "Combining the diffusion equation and circuit equation, \n",
    "\\begin{equation}\n",
    "    \\begin{bmatrix}\n",
    "        A & -f \\\\\n",
    "        j\\omega G^T & R_{ext} + j\\omega L_{ext}\n",
    "    \\end{bmatrix} \\begin{bmatrix}\n",
    "        u \\\\\n",
    "        I\n",
    "    \\end{bmatrix} = \\begin{bmatrix}\n",
    "        0 \\\\\n",
    "        V\n",
    "    \\end{bmatrix}\n",
    "\\end{equation}\n",
    "where, $V$ = known voltages, and\n",
    "\n",
    "\\begin{equation}\n",
    "    G = f = \\frac{N}{S}\\times \\frac{area\\ of\\ element}{3} \\begin{bmatrix}\n",
    "    1 \\\\ 1 \\\\ 1\n",
    "\\end{bmatrix}\n",
    "\\end{equation}\n",
    "\n",
    "Note : The above formulation is only valid in case of per unit z-direction axis."
   ]
  },
  {
   "cell_type": "markdown",
   "id": "5063ccfe",
   "metadata": {},
   "source": [
    "## Import Packages"
   ]
  },
  {
   "cell_type": "code",
   "execution_count": 1,
   "id": "012e9206",
   "metadata": {},
   "outputs": [
    {
     "name": "stdout",
     "output_type": "stream",
     "text": [
      " ✓ Packages loaded (33.6 seconds)                               \n"
     ]
    }
   ],
   "source": [
    "print(\" ▸ Loading Packages .... \\r\")\n",
    "start = time_ns()\n",
    "using gmsh\n",
    "using LinearAlgebra\n",
    "using LaTeXStrings\n",
    "using Plots\n",
    "using CSV\n",
    "using DataFrames\n",
    "include(\"../../../../lib/Makie_Plots.jl\");\n",
    "using .Makie_Plots\n",
    "include(\"../../../../lib/FEM_VoltageFed_Tri_1e.jl\");\n",
    "using .FEM_VoltageFed_Tri_1e\n",
    "include(\"../../../../lib/Post_Process_Frequency.jl\");\n",
    "using .Post_Process_Frequency\n",
    "include(\"../../../../lib/Mesh_Data_stedin.jl\");\n",
    "using .Mesh_Data_stedin\n",
    "include(\"../../../../lib/Save_VTK.jl\");\n",
    "using .Save_VTK\n",
    "elapsed = round((time_ns() - start)/10^9, digits=2)\n",
    "println(\" ✓ Packages loaded (\"*string(elapsed)*\" seconds)                               \")"
   ]
  },
  {
   "cell_type": "markdown",
   "id": "a9284d46",
   "metadata": {},
   "source": [
    "## Julia code"
   ]
  },
  {
   "cell_type": "code",
   "execution_count": 2,
   "id": "a2d869f5",
   "metadata": {},
   "outputs": [
    {
     "name": "stdout",
     "output_type": "stream",
     "text": [
      "Info    : Reading '../../../../Geometry/mesh/stedin_transformer.msh'...\n",
      "Info    : 168 entities\n",
      "Info    : 10385 nodes\n",
      "Info    : 20768 elements\n",
      "Info    : Done reading '../../../../Geometry/mesh/stedin_transformer.msh'\n",
      " ✓ Mesh file loaded (0.06 seconds)                               \n",
      " ✓ Mesh data generated (4.11 seconds)                               \n",
      " ✓ Initial parameters set (0.31 seconds)                               \n",
      " ✓ Matrices constructed (1.01 seconds)                               \n",
      " ✓ Solution computed (1.0 seconds)                               \n",
      " ✓ Post processing variables computed (1.13 seconds)                               \n",
      " ✓ Plots saved (23.34 seconds)                               \n",
      " ✓ VTK file saved (2.14 seconds)                               \n"
     ]
    }
   ],
   "source": [
    "gmsh.initialize()\n",
    "\n",
    "## Read mesh from file\n",
    "print(\" ▸ Reading mesh file .... \\r\")\n",
    "start = time_ns()\n",
    "gmsh.open(\"../../../../Geometry/mesh/stedin_transformer.msh\")\n",
    "elapsed = round((time_ns() - start)/10^9, digits=2)\n",
    "println(\" ✓ Mesh file loaded (\"*string(elapsed)*\" seconds)                               \")\n",
    "\n",
    "print(\" ▸ Generating required mesh data .... \\r\")\n",
    "start = time_ns()\n",
    "mesh_data = get_mesh_data_tri_1e(gmsh)\n",
    "elapsed = round((time_ns() - start)/10^9, digits=2)\n",
    "println(\" ✓ Mesh data generated (\"*string(elapsed)*\" seconds)                               \")\n",
    "\n",
    "print(\" ▸ Setting initial parameters .... \\r\")\n",
    "start = time_ns()\n",
    "Ip = 17.54;   # Primary peak phase current\n",
    "Is = 777.62;  # Secondary peak phase current\n",
    "Vp = 15202.40;   # Primary peak phase voltage\n",
    "Vs = 342.93;     # Secondary peak phase voltage\n",
    "Np = 266;\n",
    "Ns = 6;\n",
    "\n",
    "omega = 2*pi*50;  # Frequency\n",
    "\n",
    "# HV winding dimensions (all phases left/right are identical)\n",
    "wwhv = 3e-2;\n",
    "hwhv = 74e-2;\n",
    "mwhv = 14.75e-2;\n",
    "Awhv = wwhv * hwhv;\n",
    "\n",
    "# LV winding dimensions (all phases left/right are identical)\n",
    "wwlv = 2e-2;\n",
    "hwlv = 74e-2;\n",
    "mwlv = 11.25e-2;\n",
    "Awlv = wwlv * hwlv;\n",
    "\n",
    "# Calculate turn density in the windings\n",
    "Tp = Np / Awhv;\n",
    "Ts = Ns / Awlv;\n",
    "\n",
    "# Source turn density T\n",
    "# One term for each of the windings, with a positive and negative part\n",
    "sourcefunction(group_id) = [Tp*(1*(group_id==5))  -Tp*(1*(group_id==6))   Ts*(1*(group_id==11))  -Ts*(1*(group_id==12))];\n",
    "sourceperelement = map(sourcefunction, mesh_data.e_group);\n",
    "\n",
    "# Source voltage V\n",
    "# One term for each of the windings, with a positive and negative part\n",
    "coil_voltage = [Vp; Vp; 0; 0];\n",
    "\n",
    "# External resistance Rext\n",
    "# One term for each of the windings, with a positive and negative part\n",
    "Rp = 400.655\n",
    "Rs = 1.2999e-3\n",
    "ext_resistance = [Rp; Rp; Rs; Rs];\n",
    "\n",
    "# External resistance Rext\n",
    "# One term for each of the windings, with a positive and negative part\n",
    "ext_inductance = 1e-3.*[1; 1; 1; 1];\n",
    "\n",
    "# Relative permeability model\n",
    "mu0 = 4e-7 * pi;\n",
    "mur = 2500;       # Relative permeability of the core\n",
    "reluctivityfunction(group_id) = (1 / mu0) + (1/(mu0*mur) - 1/mu0) * (group_id == 2)\n",
    "reluctivityperelement = map(reluctivityfunction, mesh_data.e_group);\n",
    "\n",
    "# Conductivity\n",
    "conductivityfunction(group_id) = 0;\n",
    "conductivityperelement = map(conductivityfunction, mesh_data.e_group);\n",
    "\n",
    "# Handle the boundary conditions\n",
    "bnd_node_ids, _ = gmsh.model.mesh.getNodesForPhysicalGroup(1, 1);\n",
    "\n",
    "elapsed = round((time_ns() - start)/10^9, digits=2)\n",
    "println(\" ✓ Initial parameters set (\"*string(elapsed)*\" seconds)                               \")\n",
    "\n",
    "# Calculate the vector potential\n",
    "u = fem(mesh_data, sourceperelement, reluctivityperelement, conductivityperelement, omega, bnd_node_ids, coil_voltage, ext_resistance, ext_inductance);\n",
    "\n",
    "# Post-process for magnetic field and current density\n",
    "Bx, By, B, Hx, Hy, H, mag_energy = post_process(mesh_data, u[1:mesh_data.nnodes], reluctivityperelement);\n",
    "\n",
    "print(\" ▸ Saving Plots .... \\r\")\n",
    "start = time_ns()\n",
    "# Contour plot of the magnetic flux density\n",
    "plot_surface_tri_1e(norm.(B), \"single_phase_stedin_transformer_B_plot_voltagefed\", gmsh)\n",
    "# Contour plot of the magnetic field strength\n",
    "plot_surface_tri_1e(norm.(H), \"single_phase_stedin_transformer_H_plot_voltagefed\", gmsh)\n",
    "# Contour plot of the magnetic energy\n",
    "plot_surface_tri_1e(norm.(mag_energy), \"single_phase_stedin_transformer_mag_energy_plot_voltagefed\", gmsh)\n",
    "elapsed = round((time_ns() - start)/10^9, digits=2)\n",
    "println(\" ✓ Plots saved (\"*string(elapsed)*\" seconds)                               \")\n",
    "\n",
    "print(\" ▸ Saving VTK file .... \\r\")\n",
    "start = time_ns()\n",
    "# Save as VTK file for Paraview visualization\n",
    "save_vtk(mesh_data, imag(u[1:mesh_data.nnodes]), norm.(B), norm.(H), norm.(mag_energy), reluctivityperelement, \"single_phase_stedin_transformer_voltagefed\")\n",
    "elapsed = round((time_ns() - start)/10^9, digits=2)\n",
    "println(\" ✓ VTK file saved (\"*string(elapsed)*\" seconds)                               \")\n",
    "\n",
    "gmsh.finalize()"
   ]
  },
  {
   "cell_type": "markdown",
   "id": "4d56ad6b-bd80-4057-b51b-d0e225d81644",
   "metadata": {},
   "source": [
    "### STEDIN Transformer : Magnetic field density\n",
    "<img src=\"../img/single_phase_stedin_transformer_B_plot_voltagefed.png\">\n",
    "\n",
    "### STEDIN Transformer : Magnetic field strength\n",
    "<img src=\"../img/single_phase_stedin_transformer_H_plot_voltagefed.png\">\n",
    "\n",
    "### STEDIN Transformer : Magnetic energy\n",
    "<img src=\"../img/single_phase_stedin_transformer_mag_energy_plot_voltagefed.png\">"
   ]
  },
  {
   "cell_type": "code",
   "execution_count": 3,
   "id": "bdd61bc7-b34d-4488-9bd5-43b0e8c276f3",
   "metadata": {},
   "outputs": [
    {
     "data": {
      "text/plain": [
       "3.1368553473701866"
      ]
     },
     "metadata": {},
     "output_type": "display_data"
    }
   ],
   "source": [
    "display(maximum(norm.(B)))"
   ]
  },
  {
   "cell_type": "code",
   "execution_count": 4,
   "id": "06b606f8",
   "metadata": {},
   "outputs": [
    {
     "data": {
      "text/plain": [
       "1.70229147436843"
      ]
     },
     "metadata": {},
     "output_type": "display_data"
    }
   ],
   "source": [
    "display(norm.(B[7051]))"
   ]
  },
  {
   "cell_type": "code",
   "execution_count": null,
   "id": "0c312d59",
   "metadata": {},
   "outputs": [],
   "source": []
  }
 ],
 "metadata": {
  "kernelspec": {
   "display_name": "Julia 1.8.5",
   "language": "julia",
   "name": "julia-1.8"
  },
  "language_info": {
   "file_extension": ".jl",
   "mimetype": "application/julia",
   "name": "julia",
   "version": "1.8.5"
  }
 },
 "nbformat": 4,
 "nbformat_minor": 5
}
