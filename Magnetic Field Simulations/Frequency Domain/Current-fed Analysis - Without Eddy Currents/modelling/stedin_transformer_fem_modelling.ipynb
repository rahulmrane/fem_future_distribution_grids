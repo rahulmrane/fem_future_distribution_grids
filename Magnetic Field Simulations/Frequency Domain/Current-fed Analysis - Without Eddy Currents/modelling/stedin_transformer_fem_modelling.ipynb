{
 "cells": [
  {
   "cell_type": "markdown",
   "id": "af70a261",
   "metadata": {},
   "source": [
    "# FEM Modelling for Three-Phase STEDIN Transformer"
   ]
  },
  {
   "cell_type": "markdown",
   "id": "4db1895b-7cc7-458d-a7d4-6c8c59d34f30",
   "metadata": {},
   "source": [
    "### No Eddy Current Effects\n",
    "\n",
    "In this part, the conducitvity of the core material is modelled as 0. Therefore, there are no eddy current effects.\n",
    "\n",
    "\\begin{equation}\n",
    "    -\\nabla\\cdot\\Big[\\frac{1}{\\mu}\\nabla u_z \\Big] = J_0\n",
    "\\end{equation}"
   ]
  },
  {
   "cell_type": "markdown",
   "id": "5063ccfe",
   "metadata": {},
   "source": [
    "## Import Packages"
   ]
  },
  {
   "cell_type": "code",
   "execution_count": 1,
   "id": "012e9206",
   "metadata": {},
   "outputs": [
    {
     "name": "stdout",
     "output_type": "stream",
     "text": [
      " ✓ Packages loaded (29.89 seconds)                               \n"
     ]
    }
   ],
   "source": [
    "print(\" ▸ Loading Packages .... \\r\")\n",
    "start = time_ns()\n",
    "using gmsh\n",
    "using LinearAlgebra\n",
    "using LaTeXStrings\n",
    "using Plots\n",
    "using CSV\n",
    "using DataFrames\n",
    "include(\"../../../../lib/Makie_Plots.jl\");\n",
    "using .Makie_Plots\n",
    "include(\"../../../../lib/FEM_Tri_1e.jl\");\n",
    "using .FEM_Tri_1e\n",
    "include(\"../../../../lib/Post_Process_Frequency.jl\");\n",
    "using .Post_Process_Frequency\n",
    "include(\"../../../../lib/Mesh_Data_stedin.jl\");\n",
    "using .Mesh_Data_stedin\n",
    "include(\"../../../../lib/Save_VTK.jl\");\n",
    "using .Save_VTK\n",
    "elapsed = round((time_ns() - start)/10^9, digits=2)\n",
    "println(\" ✓ Packages loaded (\"*string(elapsed)*\" seconds)                               \")"
   ]
  },
  {
   "cell_type": "markdown",
   "id": "a9284d46",
   "metadata": {},
   "source": [
    "## Julia code"
   ]
  },
  {
   "cell_type": "code",
   "execution_count": 2,
   "id": "a2d869f5",
   "metadata": {},
   "outputs": [
    {
     "name": "stdout",
     "output_type": "stream",
     "text": [
      "Info    : Reading '../../../../Geometry/mesh/stedin_transformer.msh'...\n",
      "Info    : 168 entities\n",
      "Info    : 10385 nodes\n",
      "Info    : 20768 elements\n",
      "Info    : Done reading '../../../../Geometry/mesh/stedin_transformer.msh'\n",
      " ✓ Mesh file loaded (0.07 seconds)                               \n",
      " ✓ Mesh data generated (3.67 seconds)                               \n",
      " ✓ Initial parameters set (0.22 seconds)                               \n",
      " ✓ Matrices constructed (0.91 seconds)                               \n",
      " ✓ Solution computed (0.32 seconds)                               \n",
      " ✓ Post processing variables computed (0.8 seconds)                               \n",
      " ✓ Plots saved (19.89 seconds)                               \n",
      " ✓ VTK file saved (1.5 seconds)                               \n"
     ]
    }
   ],
   "source": [
    "gmsh.initialize()\n",
    "\n",
    "## Read mesh from file\n",
    "print(\" ▸ Reading mesh file .... \\r\")\n",
    "start = time_ns()\n",
    "gmsh.open(\"../../../../Geometry/mesh/stedin_transformer.msh\")\n",
    "elapsed = round((time_ns() - start)/10^9, digits=2)\n",
    "println(\" ✓ Mesh file loaded (\"*string(elapsed)*\" seconds)                               \")\n",
    "\n",
    "print(\" ▸ Generating required mesh data .... \\r\")\n",
    "start = time_ns()\n",
    "mesh_data = get_mesh_data_tri_1e(gmsh)\n",
    "elapsed = round((time_ns() - start)/10^9, digits=2)\n",
    "println(\" ✓ Mesh data generated (\"*string(elapsed)*\" seconds)                               \")\n",
    "\n",
    "print(\" ▸ Setting initial parameters .... \\r\")\n",
    "start = time_ns()\n",
    "Ip = 0;       # Primary peak phase current\n",
    "Is = 777.62;  # Secondary peak phase current\n",
    "Np = 266;\n",
    "Ns = 6;\n",
    "\n",
    "omega = 2*pi*50;  # Frequency\n",
    "\n",
    "# HV winding dimensions (all phases left/right are identical)\n",
    "wwhv = 3e-2;\n",
    "hwhv = 74e-2;\n",
    "mwhv = 14.75e-2;\n",
    "Awhv = wwhv * hwhv;\n",
    "\n",
    "# LV winding dimensions (all phases left/right are identical)\n",
    "wwlv = 2e-2;\n",
    "hwlv = 74e-2;\n",
    "mwlv = 11.25e-2;\n",
    "Awlv = wwlv * hwlv;\n",
    "\n",
    "# Calculate current density in the windings\n",
    "Jp = Np * Ip / Awhv;\n",
    "Js = Ns * Is / Awlv;\n",
    "\n",
    "# Source current density J\n",
    "# One term for each of the windings, with a positive and negative part\n",
    "# Note the phase shift between the phases\n",
    "sourcefunction(group_id) = Jp * exp(-1im * 2pi/3) * (1 * (group_id==3) - 1 * (group_id==4)) + \n",
    "                           Jp * (1 * (group_id==5) - 1 * (group_id==6)) + \n",
    "                           Jp * exp(1im * 2pi/3) * (1 * (group_id==7) - 1 * (group_id==8)) + \n",
    "                           Js * exp(-1im * 2pi/3) * (1 * (group_id==9) - 1 * (group_id==10)) +\n",
    "                           Js * (1 * (group_id==11) - 1 * (group_id==12)) + \n",
    "                           Js * exp(1im * 2pi/3) * (1 * (group_id==13) - 1 * (group_id==14));\n",
    "sourceperelement = map(sourcefunction, mesh_data.e_group);\n",
    "\n",
    "# Relative permeability model\n",
    "mu0 = 4e-7 * pi;\n",
    "mur = 2500;       # Relative permeability of the core\n",
    "reluctivityfunction(group_id) = (1 / mu0) + (1/(mu0*mur) - 1/mu0) * (group_id == 2)\n",
    "reluctivityperelement = map(reluctivityfunction, mesh_data.e_group);\n",
    "\n",
    "# Conductivity\n",
    "conductivityfunction(group_id) = 0;\n",
    "conductivityperelement = map(conductivityfunction, mesh_data.e_group);\n",
    "\n",
    "# Handle the boundary conditions\n",
    "bnd_node_ids, _ = gmsh.model.mesh.getNodesForPhysicalGroup(1, 1);\n",
    "\n",
    "elapsed = round((time_ns() - start)/10^9, digits=2)\n",
    "println(\" ✓ Initial parameters set (\"*string(elapsed)*\" seconds)                               \")\n",
    "\n",
    "# Calculate the vector potential\n",
    "u = fem(mesh_data, sourceperelement, reluctivityperelement, conductivityperelement, omega, bnd_node_ids);\n",
    "\n",
    "# Post-process for magnetic field and current density\n",
    "Bx, By, B, Hx, Hy, H, mag_energy = post_process(mesh_data, u, reluctivityperelement);\n",
    "\n",
    "print(\" ▸ Saving Plots .... \\r\")\n",
    "start = time_ns()\n",
    "# Contour plot of the magnetic flux density\n",
    "plot_surface_tri_1e(norm.(B), \"stedin_transformer_B_plot_without_eddy\", gmsh)\n",
    "# Contour plot of the magnetic field strength\n",
    "plot_surface_tri_1e(norm.(H), \"stedin_transformer_H_plot_without_eddy\", gmsh)\n",
    "# Contour plot of the magnetic energy\n",
    "plot_surface_tri_1e(norm.(mag_energy), \"stedin_transformer_mag_energy_plot_without_eddy\", gmsh)\n",
    "elapsed = round((time_ns() - start)/10^9, digits=2)\n",
    "println(\" ✓ Plots saved (\"*string(elapsed)*\" seconds)                               \")\n",
    "\n",
    "print(\" ▸ Saving VTK file .... \\r\")\n",
    "start = time_ns()\n",
    "# Save as VTK file for Paraview visualization\n",
    "save_vtk(mesh_data, norm.(u), norm.(B), norm.(H), norm.(mag_energy), reluctivityperelement, \"stedin_transformer_without_eddy\")\n",
    "elapsed = round((time_ns() - start)/10^9, digits=2)\n",
    "println(\" ✓ VTK file saved (\"*string(elapsed)*\" seconds)                               \")\n",
    "\n",
    "gmsh.finalize()"
   ]
  },
  {
   "cell_type": "markdown",
   "id": "4d56ad6b-bd80-4057-b51b-d0e225d81644",
   "metadata": {},
   "source": [
    "### STEDIN Transformer : Magnetic field density\n",
    "<img src=\"../img/stedin_transformer_B_plot_without_eddy.png\">\n",
    "\n",
    "### STEDIN Transformer : Magnetic field strength\n",
    "<img src=\"../img/stedin_transformer_H_plot_without_eddy.png\">\n",
    "\n",
    "### STEDIN Transformer : Magnetic energy\n",
    "<img src=\"../img/stedin_transformer_mag_energy_plot_without_eddy.png\">"
   ]
  },
  {
   "cell_type": "code",
   "execution_count": 3,
   "id": "bdd61bc7-b34d-4488-9bd5-43b0e8c276f3",
   "metadata": {},
   "outputs": [
    {
     "data": {
      "text/plain": [
       "31.46069195878482"
      ]
     },
     "metadata": {},
     "output_type": "display_data"
    }
   ],
   "source": [
    "display(maximum(norm.(B)))"
   ]
  },
  {
   "cell_type": "code",
   "execution_count": 4,
   "id": "50965661",
   "metadata": {},
   "outputs": [
    {
     "data": {
      "text/plain": [
       "13.942264998525"
      ]
     },
     "metadata": {},
     "output_type": "display_data"
    }
   ],
   "source": [
    "display(norm.(B[7051]))"
   ]
  },
  {
   "cell_type": "code",
   "execution_count": null,
   "id": "656aa5df",
   "metadata": {},
   "outputs": [],
   "source": []
  }
 ],
 "metadata": {
  "kernelspec": {
   "display_name": "Julia 1.8.5",
   "language": "julia",
   "name": "julia-1.8"
  },
  "language_info": {
   "file_extension": ".jl",
   "mimetype": "application/julia",
   "name": "julia",
   "version": "1.8.5"
  }
 },
 "nbformat": 4,
 "nbformat_minor": 5
}
