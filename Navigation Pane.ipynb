{
 "cells": [
  {
   "cell_type": "markdown",
   "id": "231e3e33",
   "metadata": {},
   "source": [
    "# Use this File to Navigate in the  Repository"
   ]
  },
  {
   "cell_type": "markdown",
   "id": "7ba3e038",
   "metadata": {},
   "source": [
    "### Documentation\n",
    "<a href=\"Documentation.pdf\">Documentation</a>"
   ]
  },
  {
   "cell_type": "markdown",
   "id": "39be0926",
   "metadata": {},
   "source": [
    "### STEDIN Transformer Geometry\n",
    "- <a href=\"Geometry/modelling/stedin_transformer_geometry_definition.ipynb\">Modelling Code</a>\n",
    "- <a href=\"Geometry/img/stedin_transformer_mesh.png\">Meshed Image</a>\n",
    "- <a href=\"Geometry/img/stedin_transformer.png\">Normal Image</a>"
   ]
  },
  {
   "cell_type": "markdown",
   "id": "6b4e1f50",
   "metadata": {},
   "source": [
    "### Frequency Domain Simulations\n",
    "\n",
    "- Current-fed Analysis : Without Eddy Current Effects\n",
    "  - <a href=\"Magnetic Field Simulations/Frequency Domain/Current-fed Analysis - Without Eddy Currents/modelling/stedin_transformer_fem_modelling.ipynb\">Three-Phase STEDIN Transformer Modelling Code</a>\n",
    "  - <a href=\"Magnetic Field Simulations/Frequency Domain/Current-fed Analysis - Without Eddy Currents/modelling/single_phase_stedin_transformer_fem_modelling.ipynb\">Single-Phase STEDIN Transformer Modelling Code</a>\n",
    "  \n",
    "- Current-fed Analysis : With Eddy Current Effects\n",
    "  - <a href=\"Magnetic Field Simulations/Frequency Domain/Current-fed Analysis - With Eddy Currents/modelling/stedin_transformer_fem_modelling.ipynb\">Three-Phase STEDIN Transformer Modelling Code</a>\n",
    "  \n",
    "- Voltage-fed Coupled Circuit Analysis\n",
    "  - <a href=\"Magnetic Field Simulations/Frequency Domain/Voltage-fed Coupled Circuit Analysis/modelling/stedin_transformer_fem_modelling.ipynb\">Three-Phase STEDIN Transformer Modelling Code</a>\n",
    "  - <a href=\"Magnetic Field Simulations/Frequency Domain/Voltage-fed Coupled Circuit Analysis/modelling/single_phase_stedin_transformer_fem_modelling.ipynb\">Single-Phase STEDIN Transformer Modelling Code</a>\n",
    "  \n",
    "- Voltage-fed Analysis - Non-Linear BH Curve\n",
    "  - <a href=\"Magnetic Field Simulations/Frequency Domain/Voltage-fed Analysis - Non-Linear BH Curve/modelling/stedin_transformer_fem_modelling.ipynb\">Three-Phase STEDIN Transformer Modelling Code</a>\n",
    "  - <a href=\"Magnetic Field Simulations/Frequency Domain/Voltage-fed Analysis - Non-Linear BH Curve/modelling/single_phase_stedin_transformer_fem_modelling.ipynb\">Single-Phase STEDIN Transformer Modelling Code</a>\n",
    "\n",
    "#### Required Code Files - Frequency Domain\n",
    "- <a href=\"lib/Post_Process_Frequency.jl\">Post Processing</a>\n",
    "- <a href=\"lib/FEM_Tri_1e.jl\">FEM Code for Current-fed Analysis</a>\n",
    "- <a href=\"lib/FEM_VoltageFed_Tri_1e.jl\">FEM Code for Voltage-fed Analysis</a>"
   ]
  },
  {
   "cell_type": "markdown",
   "id": "82bcd5ff",
   "metadata": {},
   "source": [
    "### Time Domain Simulations\n",
    "\n",
    "- Current-fed Analysis\n",
    "  - <a href=\"Magnetic Field Simulations/Time Domain/Current-fed Analysis/modelling/stedin_transformer_fem_modelling.ipynb\">Three-Phase STEDIN Transformer Modelling Code</a>\n",
    "  - <a href=\"Magnetic Field Simulations/Time Domain/Current-fed Analysis/modelling/single_phase_stedin_transformer_fem_modelling.ipynb\">Single-Phase STEDIN Transformer Modelling Code</a>\n",
    "  - <a href=\"Magnetic Field Simulations/Time Domain/Current-fed Analysis/modelling/harmonic_stedin_transformer_fem_modelling.ipynb\">Third Harmonic Three-Phase STEDIN Transformer Modelling Code</a>\n",
    "  - <a href=\"Magnetic Field Simulations/Time Domain/Current-fed Analysis/modelling/harmonic_single_phase_stedin_transformer_fem_modelling.ipynb\">Third Harmonic Single-Phase STEDIN Transformer Modelling Code</a>\n",
    "  \n",
    "- Voltage-fed Coupled Circuit Analysis\n",
    "  - <a href=\"Magnetic Field Simulations/Time Domain/Voltage-fed Coupled Circuit Analysis/modelling/stedin_transformer_fem_modelling.ipynb\">Three-Phase STEDIN Transformer Modelling Code</a>\n",
    "  - <a href=\"Magnetic Field Simulations/Time Domain/Voltage-fed Coupled Circuit Analysis/modelling/single_phase_stedin_transformer_fem_modelling.ipynb\">Single-Phase STEDIN Transformer Modelling Code</a>\n",
    "  - <a href=\"Magnetic Field Simulations/Time Domain/Voltage-fed Coupled Circuit Analysis/modelling/harmonic_stedin_transformer_fem_modelling.ipynb\">Third Harmonic Three-Phase STEDIN Transformer Modelling Code</a>\n",
    "  - <a href=\"Magnetic Field Simulations/Time Domain/Voltage-fed Coupled Circuit Analysis/modelling/harmonic_single_phase_stedin_transformer_fem_modelling.ipynb\">Third Harmonic Single-Phase STEDIN Transformer Modelling Code</a>\n",
    "  \n",
    "- Voltage-fed Analysis - Non-Linear BH Curve\n",
    "  - <a href=\"Magnetic Field Simulations/Time Domain/Voltage-fed Analysis - Non-Linear BH Curve/modelling/stedin_transformer_fem_modelling.ipynb\">Three-Phase STEDIN Transformer Modelling Code</a>\n",
    "  - <a href=\"Magnetic Field Simulations/Time Domain/Voltage-fed Analysis - Non-Linear BH Curve/modelling/single_phase_stedin_transformer_fem_modelling.ipynb\">Single-Phase STEDIN Transformer Modelling Code</a>\n",
    "\n",
    "#### Required Code Files - Time Domain\n",
    "- <a href=\"lib/Post_Process_Time.jl\">Post Processing</a>\n",
    "- <a href=\"lib/FEM_Transient_Tri_1e.jl\">FEM Code for Current-fed Analysis</a>\n",
    "- <a href=\"lib/lib/FEM_Transient_VoltageFed_Tri_1e.jl\">FEM Code for Voltage-fed Analysis</a>"
   ]
  },
  {
   "cell_type": "markdown",
   "id": "cccad832",
   "metadata": {},
   "source": [
    "### Other Library Files\n",
    "- <a href=\"lib/Save_VTK.jl\">Saving VTK Files Module</a>\n",
    "- <a href=\"lib/Makie_Plots.jl\">Makie Plots Module</a>\n",
    "- <a href=\"lib/FastSparse.jl\">Fast Sparse Module</a>\n",
    "- Reading Mesh Data\n",
    "  - <a href=\"lib/Mesh_Data_stedin.jl\">STEDIN Transformer</a>\n",
    "  - <a href=\"lib/Mesh_Data_e_core.jl\">E-Core Transformer</a>"
   ]
  }
 ],
 "metadata": {
  "kernelspec": {
   "display_name": "Julia 1.8.5",
   "language": "julia",
   "name": "julia-1.8"
  },
  "language_info": {
   "file_extension": ".jl",
   "mimetype": "application/julia",
   "name": "julia",
   "version": "1.8.5"
  }
 },
 "nbformat": 4,
 "nbformat_minor": 5
}
